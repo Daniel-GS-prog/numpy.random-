{
 "cells": [
  {
   "cell_type": "markdown",
   "metadata": {},
   "source": [
    "## Numpy.random"
   ]
  },
  {
   "cell_type": "markdown",
   "metadata": {},
   "source": [
    "***\n"
   ]
  },
  {
   "cell_type": "markdown",
   "metadata": {},
   "source": [
    "### Brief introduction to Numpy:\n",
    "\n",
    "Numpy is a python package built for efficiently perform scientific conputing tasks. One of the most important factors is the time and memmory usage optimisation. Some of the improvements of Numpy -in contrast to standard arrays are:\n",
    "\n",
    "1. Numpy arrays are densely packed arrays of homogeneous type, while python lists are pointers to objects. \n",
    "\n",
    "2. requires that all objects are of the same data type, using the same memory size. In a regular array, objects don't need to be of the same data type, therefore more information about each one of the objects is stored and retrieved in each operation.\n",
    "\n",
    "3. Arrays are stored at one continuous place so they can be access and manipulated nore efficiently (2).\n",
    "\n",
    "4. many Numpy operations are implemented in C, reducing the performance of normal loop operations in Python.(4)\n",
    "\n",
    "We can verify the difference in execution time with the following code:"
   ]
  },
  {
   "cell_type": "code",
   "execution_count": 98,
   "metadata": {},
   "outputs": [
    {
     "name": "stdout",
     "output_type": "stream",
     "text": [
      "Time required by standard array:  311.251163482666\n",
      "Time required by Numpy:  91.99833869934082\n"
     ]
    }
   ],
   "source": [
    "import numpy as np\n",
    "import time\n",
    "import sys\n",
    "import seaborn as sns\n",
    "\n",
    "# Size of array:\n",
    "size = 1000000\n",
    "\n",
    "# Two standard python arrays:\n",
    "list1 = range(size)\n",
    "list2 = range(size) \n",
    "\n",
    "# Numpy arrays:\n",
    "a1 = np.arange(size)\n",
    "a2 = np.arange(size)\n",
    "\n",
    "# Test:\n",
    "    # Standard arrays:\n",
    "start = time.time()\n",
    "\n",
    "    # Adding the two standard python arrays:\n",
    "result = [(x+y) for x,y in zip(list1, list2)]\n",
    "\n",
    "    # Returning the time required:\n",
    "print (\"Time required by standard array: \", (time.time() - start)*1000)\n",
    "\n",
    "    # Numpy arrays:\n",
    "start = time.time()\n",
    "\n",
    "    # adding the two Numpy arrays (also notice the simplicity of the code)\n",
    "result = a1 + a2\n",
    "\n",
    "    # Returning the time required:\n",
    "print(\"Time required by Numpy: \", (time.time() - start)*1000)"
   ]
  },
  {
   "cell_type": "markdown",
   "metadata": {},
   "source": [
    "We can see that Numpy took roughly 10% of the time required by the standard array operation.\n",
    "\n",
    "We will focus on the random package in the Numpy library."
   ]
  },
  {
   "cell_type": "markdown",
   "metadata": {},
   "source": [
    "***\n"
   ]
  },
  {
   "cell_type": "markdown",
   "metadata": {},
   "source": [
    "### Overal purpose of Numpy.random:\n",
    "\n",
    "The random package can generate pseudo-random numbers using a BitGenerator (seed) for the sequence and a Generator to produce the values derived from that seed, and from different distributions (3)\n",
    "\n",
    "The advantage of using a generator over lists is that the former doesn't hold all the values in memory (very important with large numbers). Instead, it create the objects but waits for an operation to be called on those objects(4)."
   ]
  },
  {
   "cell_type": "markdown",
   "metadata": {},
   "source": [
    "***\n"
   ]
  },
  {
   "cell_type": "markdown",
   "metadata": {},
   "source": [
    "\n",
    "### Simple random data:\n",
    "<br>\n",
    "Within this functions we can generate:<br>\n",
    "    a. Integers - Integer Function. <br>\n",
    "    b. Float values from an interval - random function. <br>\n",
    "    c. F sample from an array - choice function. <br>\n",
    "    d. Random bytes - bytes function. <br>\n",
    "    <br>\n",
    "    That means we can basically generate any multidimensional structure we want with our data.\n",
    "    "
   ]
  },
  {
   "cell_type": "markdown",
   "metadata": {},
   "source": [
    "#### Integers:"
   ]
  },
  {
   "cell_type": "code",
   "execution_count": 99,
   "metadata": {},
   "outputs": [],
   "source": [
    "import numpy as np\n",
    "from numpy.random import default_rng\n",
    "rng = default_rng()"
   ]
  },
  {
   "cell_type": "code",
   "execution_count": 100,
   "metadata": {},
   "outputs": [
    {
     "data": {
      "text/plain": [
       "1"
      ]
     },
     "execution_count": 100,
     "metadata": {},
     "output_type": "execute_result"
    }
   ],
   "source": [
    "# Random integers:\n",
    "# Providing the highest value (exclusive):\n",
    "a = rng.integers(2)\n",
    "a"
   ]
  },
  {
   "cell_type": "code",
   "execution_count": 101,
   "metadata": {},
   "outputs": [
    {
     "data": {
      "text/plain": [
       "3"
      ]
     },
     "execution_count": 101,
     "metadata": {},
     "output_type": "execute_result"
    }
   ],
   "source": [
    "# Random integers:\n",
    "# Providing both lower and high (exclusive) values:\n",
    "a = rng.integers(2, 5)\n",
    "a"
   ]
  },
  {
   "cell_type": "code",
   "execution_count": 102,
   "metadata": {},
   "outputs": [
    {
     "data": {
      "text/plain": [
       "array([2, 2, 2, 3, 2, 4])"
      ]
     },
     "execution_count": 102,
     "metadata": {},
     "output_type": "execute_result"
    }
   ],
   "source": [
    "# Arrays: \n",
    "# Generate array by adding the size to the code above:\n",
    "a = rng.integers(2, 5, 6)\n",
    "a"
   ]
  },
  {
   "cell_type": "code",
   "execution_count": 103,
   "metadata": {},
   "outputs": [
    {
     "data": {
      "text/plain": [
       "array([3, 3, 2, 2, 3, 4])"
      ]
     },
     "execution_count": 103,
     "metadata": {},
     "output_type": "execute_result"
    }
   ],
   "source": [
    "# Same as above only specifying the size:\n",
    "b = rng.integers(2, 5, size=6)\n",
    "b"
   ]
  },
  {
   "cell_type": "code",
   "execution_count": 104,
   "metadata": {},
   "outputs": [
    {
     "data": {
      "text/plain": [
       "array([5, 4, 4, 5, 5, 5])"
      ]
     },
     "execution_count": 104,
     "metadata": {},
     "output_type": "execute_result"
    }
   ],
   "source": [
    "# Including high value:\n",
    "a = rng.integers(2, 5,size=6, endpoint=True)\n",
    "a"
   ]
  },
  {
   "cell_type": "code",
   "execution_count": 105,
   "metadata": {},
   "outputs": [
    {
     "data": {
      "text/plain": [
       "array([[3, 5],\n",
       "       [4, 3],\n",
       "       [3, 4],\n",
       "       [2, 4],\n",
       "       [3, 4],\n",
       "       [3, 4]])"
      ]
     },
     "execution_count": 105,
     "metadata": {},
     "output_type": "execute_result"
    }
   ],
   "source": [
    "# Generatin 2 dimensional arrays:\n",
    "#   Where the first value in \"size\" is the number of arrays\n",
    "#   and the second value is the length of the array.\n",
    "a = rng.integers(2, 5,size=(6,2), endpoint=True)\n",
    "a"
   ]
  },
  {
   "cell_type": "code",
   "execution_count": 106,
   "metadata": {},
   "outputs": [
    {
     "data": {
      "text/plain": [
       "array([[3, 4],\n",
       "       [5, 4],\n",
       "       [3, 3],\n",
       "       [4, 4],\n",
       "       [2, 2]])"
      ]
     },
     "execution_count": 106,
     "metadata": {},
     "output_type": "execute_result"
    }
   ],
   "source": [
    "# Plotting two dimensional arrays\n",
    "\n",
    "import matplotlib.pyplot as plt\n",
    "\n",
    "rng = np.random.default_rng()\n",
    "a = rng.integers(2, 5,size=(5,2), endpoint=True)\n",
    "a"
   ]
  },
  {
   "cell_type": "code",
   "execution_count": 107,
   "metadata": {},
   "outputs": [
    {
     "data": {
      "image/png": "[encoded data removed]",
      "text/plain": [
       "<Figure size 432x288 with 1 Axes>"
      ]
     },
     "metadata": {
      "needs_background": "light"
     },
     "output_type": "display_data"
    }
   ],
   "source": [
    "plt.plot(a)\n",
    "plt.show()\n",
    "# Where values at inex[0] are reprenseted in blue line:"
   ]
  },
  {
   "cell_type": "code",
   "execution_count": 108,
   "metadata": {},
   "outputs": [
    {
     "data": {
      "text/plain": [
       "array([52,  1, 54, 14, 55, 38, 94, 32,  8, 99, 10, 88, 46, 88, 91, 34, 78,\n",
       "       34, 44, 10, 73, 59, 98, 90, 50, 43, 62, 97, 27, 98,  9,  9, 71,  3,\n",
       "       93, 75, 77,  5, 62, 33, 52, 19, 45, 46,  9, 27, 23, 59, 95, 67, 46,\n",
       "        8, 40, 43, 78, 13, 84, 91, 36, 23, 92, 27, 56, 74, 34, 26, 11, 18,\n",
       "       88, 46, 98, 33, 67, 20, 38, 18, 20, 52, 55, 81, 46, 24, 56, 56, 70,\n",
       "       89, 73, 11, 13,  9, 83, 63, 84, 81, 10, 60, 53,  7, 83, 81])"
      ]
     },
     "execution_count": 108,
     "metadata": {},
     "output_type": "execute_result"
    }
   ],
   "source": [
    "# We can also mae a model of a varible by just adding a math operation to a variable\n",
    "#  to generate another variable.\n",
    "\n",
    "c = rng.integers(1, 100, size=100)\n",
    "d = c*2\n",
    "c\n",
    "# Just by adding c*2, now d is another array which varies with c.\n"
   ]
  },
  {
   "cell_type": "code",
   "execution_count": 109,
   "metadata": {},
   "outputs": [
    {
     "data": {
      "text/plain": [
       "array([140608,      1, 157464,   2744, 166375,  54872, 830584,  32768,\n",
       "          512, 970299,   1000, 681472,  97336, 681472, 753571,  39304,\n",
       "       474552,  39304,  85184,   1000, 389017, 205379, 941192, 729000,\n",
       "       125000,  79507, 238328, 912673,  19683, 941192,    729,    729,\n",
       "       357911,     27, 804357, 421875, 456533,    125, 238328,  35937,\n",
       "       140608,   6859,  91125,  97336,    729,  19683,  12167, 205379,\n",
       "       857375, 300763,  97336,    512,  64000,  79507, 474552,   2197,\n",
       "       592704, 753571,  46656,  12167, 778688,  19683, 175616, 405224,\n",
       "        39304,  17576,   1331,   5832, 681472,  97336, 941192,  35937,\n",
       "       300763,   8000,  54872,   5832,   8000, 140608, 166375, 531441,\n",
       "        97336,  13824, 175616, 175616, 343000, 704969, 389017,   1331,\n",
       "         2197,    729, 571787, 250047, 592704, 531441,   1000, 216000,\n",
       "       148877,    343, 571787, 531441])"
      ]
     },
     "execution_count": 109,
     "metadata": {},
     "output_type": "execute_result"
    }
   ],
   "source": [
    "d = c**3\n",
    "d"
   ]
  },
  {
   "cell_type": "code",
   "execution_count": 110,
   "metadata": {},
   "outputs": [
    {
     "data": {
      "image/png": "[encoded data removed]",
      "text/plain": [
       "<Figure size 432x288 with 1 Axes>"
      ]
     },
     "metadata": {
      "needs_background": "light"
     },
     "output_type": "display_data"
    }
   ],
   "source": [
    "# And we can plot them:\n",
    "plt.plot(c, d)\n",
    "plt.show()"
   ]
  },
  {
   "cell_type": "markdown",
   "metadata": {},
   "source": [
    "#### Float number generation:\n",
    "If we want to generate float numbers instead of integers, we can use the random() where:\n",
    "<br>\n",
    "1. The first value is the size of the array (How many values if only one array, or arrays for given values)\n",
    "<br>\n",
    "2. The length of the arrays.\n",
    "<br>\n",
    "3. How many arrays of length (2)"
   ]
  },
  {
   "cell_type": "code",
   "execution_count": 111,
   "metadata": {},
   "outputs": [
    {
     "data": {
      "text/plain": [
       "array([0.06216818, 0.03002885, 0.29000026, 0.16005857, 0.62036455])"
      ]
     },
     "execution_count": 111,
     "metadata": {},
     "output_type": "execute_result"
    }
   ],
   "source": [
    "# Five random floats:\n",
    "rng = np.random.default_rng()\n",
    "rng.random((5))\n"
   ]
  },
  {
   "cell_type": "code",
   "execution_count": 112,
   "metadata": {},
   "outputs": [
    {
     "data": {
      "text/plain": [
       "array([[0.81850658, 0.11454427],\n",
       "       [0.06024289, 0.06255957],\n",
       "       [0.10500374, 0.49576454],\n",
       "       [0.82013022, 0.83418353],\n",
       "       [0.88641922, 0.75310441]])"
      ]
     },
     "execution_count": 112,
     "metadata": {},
     "output_type": "execute_result"
    }
   ],
   "source": [
    "# Five random arrays of length 2\n",
    "rng.random((5,2))"
   ]
  },
  {
   "cell_type": "code",
   "execution_count": 113,
   "metadata": {},
   "outputs": [
    {
     "data": {
      "text/plain": [
       "array([[[0.58142917, 0.15159854, 0.59509662],\n",
       "        [0.00358583, 0.23105525, 0.34907346]],\n",
       "\n",
       "       [[0.80046784, 0.33619213, 0.57490988],\n",
       "        [0.90907248, 0.73184946, 0.85734051]],\n",
       "\n",
       "       [[0.99240299, 0.71310229, 0.78822836],\n",
       "        [0.07684929, 0.97488268, 0.79336835]],\n",
       "\n",
       "       [[0.46950113, 0.99086974, 0.76468379],\n",
       "        [0.31322813, 0.78490341, 0.4358334 ]],\n",
       "\n",
       "       [[0.22053787, 0.35114677, 0.41047581],\n",
       "        [0.26223945, 0.18921082, 0.53697532]]])"
      ]
     },
     "execution_count": 113,
     "metadata": {},
     "output_type": "execute_result"
    }
   ],
   "source": [
    "# Five random arrays of 2 columns with 3 values\n",
    "c = rng.random((5,2,3))\n",
    "c"
   ]
  },
  {
   "cell_type": "markdown",
   "metadata": {},
   "source": [
    "#### Choice generation:\n",
    "We can generate an array from another array, and we can manipulate the probability of each element\n"
   ]
  },
  {
   "cell_type": "code",
   "execution_count": 114,
   "metadata": {},
   "outputs": [],
   "source": [
    "rng = np.random.default_rng()"
   ]
  },
  {
   "cell_type": "code",
   "execution_count": 115,
   "metadata": {},
   "outputs": [
    {
     "data": {
      "text/plain": [
       "array([1, 4, 6, 0, 7, 3, 6, 0, 7, 1, 5, 7])"
      ]
     },
     "execution_count": 115,
     "metadata": {},
     "output_type": "execute_result"
    }
   ],
   "source": [
    "# array with max value of 8, and 10 values\n",
    "rng.choice(8, 12)"
   ]
  },
  {
   "cell_type": "code",
   "execution_count": 116,
   "metadata": {},
   "outputs": [
    {
     "data": {
      "text/plain": [
       "array([6, 0, 7, 6, 6, 7, 6, 7, 7, 7])"
      ]
     },
     "execution_count": 116,
     "metadata": {},
     "output_type": "execute_result"
    }
   ],
   "source": [
    "# Array where last two values have greater probabilities of being chosen:\n",
    " # p must add to 1:\n",
    "rng.choice(8, 10, p=[0.1, 0, 0,0,0,0,0.3, 0.6])\n"
   ]
  },
  {
   "cell_type": "markdown",
   "metadata": {},
   "source": [
    "***\n"
   ]
  },
  {
   "cell_type": "markdown",
   "metadata": {},
   "source": [
    "### Permutations:\n",
    "With these functions we can change the order of values in an array, in two ways."
   ]
  },
  {
   "cell_type": "markdown",
   "metadata": {},
   "source": [
    "#### Suffle:\n",
    "Shuffles the elements without keeping the original order.\n",
    "The advantage is that shuffling is a simpler coputational \n",
    "task than generating a range every time we need it:\n"
   ]
  },
  {
   "cell_type": "code",
   "execution_count": 117,
   "metadata": {},
   "outputs": [
    {
     "data": {
      "text/plain": [
       "array([2, 9, 7, 3, 6, 4, 1, 5, 8, 0])"
      ]
     },
     "execution_count": 117,
     "metadata": {},
     "output_type": "execute_result"
    }
   ],
   "source": [
    "# We can see the difference in the result by calling it twice. \n",
    "arr = np.arange(10)\n",
    "rng.shuffle(arr)\n",
    "arr"
   ]
  },
  {
   "cell_type": "code",
   "execution_count": 118,
   "metadata": {},
   "outputs": [
    {
     "data": {
      "text/plain": [
       "array([7, 8, 9, 5, 6, 1, 3, 0, 2, 4])"
      ]
     },
     "execution_count": 118,
     "metadata": {},
     "output_type": "execute_result"
    }
   ],
   "source": [
    "arr = np.arange(10)\n",
    "rng.shuffle(arr)\n",
    "arr"
   ]
  },
  {
   "cell_type": "code",
   "execution_count": 119,
   "metadata": {},
   "outputs": [
    {
     "data": {
      "text/plain": [
       "array([[ 3,  4,  5],\n",
       "       [ 6,  7,  8],\n",
       "       [ 9, 10, 11],\n",
       "       [ 0,  1,  2]])"
      ]
     },
     "execution_count": 119,
     "metadata": {},
     "output_type": "execute_result"
    }
   ],
   "source": [
    "#We can also divide it in sub arrays:\n",
    " # The reshape must match the length of the array\n",
    "arr = np.arange(12).reshape((4, 3))\n",
    "rng.shuffle(arr)\n",
    "arr"
   ]
  },
  {
   "cell_type": "markdown",
   "metadata": {},
   "source": [
    "### Permutations:\n",
    "At a first look it's hard to tell the difference between permutation and shuffle. But the differences are(7):\n",
    "1. If passed an array, Permutations will return a shuffled copy of the array, whereas Shuffle will return an in-place shuffle of the array.\n",
    "2. If passed an integer iit will return a shuffled range."
   ]
  },
  {
   "cell_type": "code",
   "execution_count": 120,
   "metadata": {},
   "outputs": [
    {
     "name": "stdout",
     "output_type": "stream",
     "text": [
      "[[ 3  4  5]\n",
      " [ 6  7  8]\n",
      " [ 9 10 11]\n",
      " [ 0  1  2]]\n"
     ]
    }
   ],
   "source": [
    "# We'll use the same array to compare both functions:\n",
    "# Permutations:\n",
    " # We can see that the original array has not been changed. \n",
    "    # So we could store the permutation in another variable and work on it\n",
    "    # without risking loosign the original variable\n",
    "array = np.array([1, 2, 3, 4, 5])\n",
    "rng.permutation(array)\n",
    "print(arr)"
   ]
  },
  {
   "cell_type": "code",
   "execution_count": 121,
   "metadata": {},
   "outputs": [
    {
     "name": "stdout",
     "output_type": "stream",
     "text": [
      "[4 3 1 5 2]\n"
     ]
    }
   ],
   "source": [
    "# Shuffle:\n",
    " # The original variable has been modified and lost in the process.\n",
    "array = np.array([1, 2, 3, 4, 5])\n",
    "rng.shuffle(array)\n",
    "print(array)"
   ]
  },
  {
   "cell_type": "markdown",
   "metadata": {},
   "source": [
    "### Permuted:\n",
    "a combination of Shuffle and permutation. It allows to slice the original array into different sub arrays (like Shuffle) but the original array stays unchanged (like Permutations). "
   ]
  },
  {
   "cell_type": "code",
   "execution_count": 122,
   "metadata": {},
   "outputs": [
    {
     "data": {
      "text/plain": [
       "array([[ 0,  1,  2,  3,  4,  5,  6,  7],\n",
       "       [ 8,  9, 10, 11, 12, 13, 14, 15],\n",
       "       [16, 17, 18, 19, 20, 21, 22, 23]])"
      ]
     },
     "execution_count": 122,
     "metadata": {},
     "output_type": "execute_result"
    }
   ],
   "source": [
    "# Dividing an array into 3 arrays of 8 values.\n",
    " # The total number of items must match the length of the original array\n",
    "x = np.arange(24).reshape(3, 8)\n",
    "x\n"
   ]
  },
  {
   "cell_type": "code",
   "execution_count": 123,
   "metadata": {},
   "outputs": [
    {
     "data": {
      "text/plain": [
       "array([[ 8,  9, 10, 11, 12, 13, 14, 15],\n",
       "       [ 0,  1,  2,  3,  4,  5,  6,  7],\n",
       "       [16, 17, 18, 19, 20, 21, 22, 23]])"
      ]
     },
     "execution_count": 123,
     "metadata": {},
     "output_type": "execute_result"
    }
   ],
   "source": [
    "# With the permutation function we can operate on the arrays,\n",
    " # but the values originally contained in each one of them stays the same.\n",
    "    # We can select whether to suffle the rows or columns by changing the value of x(0,1).\n",
    " \n",
    "# Columns:\n",
    "rng.permutation(x, axis=0)"
   ]
  },
  {
   "cell_type": "code",
   "execution_count": 124,
   "metadata": {},
   "outputs": [
    {
     "data": {
      "text/plain": [
       "array([[ 4,  7,  5,  2,  1,  0,  3,  6],\n",
       "       [12, 15, 13, 10,  9,  8, 11, 14],\n",
       "       [20, 23, 21, 18, 17, 16, 19, 22]])"
      ]
     },
     "execution_count": 124,
     "metadata": {},
     "output_type": "execute_result"
    }
   ],
   "source": [
    "# rows:\n",
    "rng.permutation(x, axis=1)"
   ]
  },
  {
   "cell_type": "markdown",
   "metadata": {},
   "source": [
    "***\n",
    "***"
   ]
  },
  {
   "cell_type": "markdown",
   "metadata": {},
   "source": [
    "### Distributions:\n",
    "In this setion we will analyse different distribution functions. With these functions we can simulate data to study populations, make solid assumptions of of a variable to bridge  to another variable. We can also plot our or dataset and use the function that best suits the nature of out observations.\n"
   ]
  },
  {
   "cell_type": "markdown",
   "metadata": {},
   "source": [
    "***"
   ]
  },
  {
   "cell_type": "markdown",
   "metadata": {},
   "source": [
    "#### Normal:\n",
    "A normal distribution is described by its mean and standard deviation, describing a bell curve, where(8):\n",
    "1. 68% of measurements are between -1 & 1 standard deviation from the mean.\n",
    "2. 95 % of measurements are between -2 & 2 standard deviation from the mean.\n",
    "3. 99% of measurements are between -3 & 3 standard deviation from the mean."
   ]
  },
  {
   "cell_type": "markdown",
   "metadata": {},
   "source": [
    "![title](normal_distribution.svg)"
   ]
  },
  {
   "cell_type": "markdown",
   "metadata": {},
   "source": [
    "The normal distribution reflects the way variables behave (provided we have the right population and sample). This means that if we make enough mesurements of a variable in a given population that variable will show the behaviour of a normal distribution."
   ]
  },
  {
   "cell_type": "markdown",
   "metadata": {},
   "source": [
    "A normal distribution will allow us to make assumptions and predictions of the sample's population based on the expected proportion of measurements for each value given a range of probability (or risk). To understand this we need to check the z distribution or standard normal distribution.\n"
   ]
  },
  {
   "cell_type": "markdown",
   "metadata": {},
   "source": [
    "Z Distribution is a representation of standard mean deviations and its proportion of measurements. That means that we can determine a value, range of values, or number of cases with a given value by translating that value into standard deviation and checking the proportion associated with that distance from the mean. For that we can check the z distribution table.(9)"
   ]
  },
  {
   "cell_type": "markdown",
   "metadata": {},
   "source": [
    "On the y axis we can see the z value which is obtained by substraction the mean from the value of interest and dividing that result by the standard deviation (which is bassically expresing the score difference in standard deviation values). On the x axis we have a probability assigned to each proportion. This allows us to calculate a value given a standard deviation or z score, or a number of observations given an observation"
   ]
  },
  {
   "cell_type": "markdown",
   "metadata": {},
   "source": [
    "![Z-table](z-dtable.png)"
   ]
  },
  {
   "cell_type": "markdown",
   "metadata": {},
   "source": [
    "It will also allow us to make predictions of a variable score given an observation in a different variable with a linear regression relationship.\n",
    "\n",
    "Example: let's assume a linear regression value of .99 between weight and diabets, meaning higher weight is highly positively correlated with having diabetes. And let's assume both variables behave normally.\n",
    "\n",
    "If we have a value in weight positioned in the percentile 75, with the z tablr we can calculate a person's score in the diabetes variable without having to make a measurement (always within a tolerange range)"
   ]
  },
  {
   "cell_type": "markdown",
   "metadata": {},
   "source": [
    "In Numpy we have have normal distributions if we provide the mean and standard deviation:\n"
   ]
  },
  {
   "cell_type": "code",
   "execution_count": 125,
   "metadata": {},
   "outputs": [
    {
     "data": {
      "text/plain": [
       "array([14.57067154, 10.98441891, 10.70365142, ...,  7.49308917,\n",
       "       10.5850166 ,  9.86473681])"
      ]
     },
     "execution_count": 125,
     "metadata": {},
     "output_type": "execute_result"
    }
   ],
   "source": [
    "# Normal distribution of mean=10, std=2, size=10000\n",
    "mean = 10\n",
    "std = 2\n",
    "sample= mean + std * rng.normal(size=10000)\n",
    "sample # (Uncomment to display)"
   ]
  },
  {
   "cell_type": "code",
   "execution_count": 126,
   "metadata": {},
   "outputs": [
    {
     "data": {
      "image/png": "[encoded data removed]",
      "text/plain": [
       "<Figure size 432x288 with 1 Axes>"
      ]
     },
     "metadata": {
      "needs_background": "light"
     },
     "output_type": "display_data"
    }
   ],
   "source": [
    "plt.hist(sample, bins=40)\n",
    "plt.xlabel(\"observations\")\n",
    "plt.ylabel(\"Frequency\")\n",
    "plt.show()"
   ]
  },
  {
   "cell_type": "code",
   "execution_count": 127,
   "metadata": {},
   "outputs": [
    {
     "name": "stdout",
     "output_type": "stream",
     "text": [
      "The mean of sample is:  9.99438707479876\n"
     ]
    }
   ],
   "source": [
    "# We can calculate the statistics to it, such as mean and standard deviation:\n",
    "mean= np.mean(sample)\n",
    "print(\"The mean of sample is: \", mean)\n"
   ]
  },
  {
   "cell_type": "code",
   "execution_count": 128,
   "metadata": {},
   "outputs": [
    {
     "name": "stdout",
     "output_type": "stream",
     "text": [
      "the standard deviation of sample:  2.0005199927197337\n"
     ]
    }
   ],
   "source": [
    "std= np.std(sample)\n",
    "print(\"the standard deviation of sample: \", std)"
   ]
  },
  {
   "cell_type": "markdown",
   "metadata": {},
   "source": [
    "***"
   ]
  },
  {
   "cell_type": "markdown",
   "metadata": {},
   "source": [
    "#### Geometrical distribution:\n",
    "\n",
    "is the distribution of the normal of trials needed to get a success where each trial is independent and has a exclusive outcome outlined as failure or success.\n",
    "\n",
    "The geometrical distribution has only one value, p, the probability of succes. The mean and variance and functions of p:\n",
    "<br>\n",
    "mean = 1/p\n",
    "<br>\n",
    "variance = 1-P/P**2"
   ]
  },
  {
   "cell_type": "code",
   "execution_count": 129,
   "metadata": {},
   "outputs": [
    {
     "data": {
      "image/png": "[encoded data removed]",
      "text/plain": [
       "<Figure size 432x288 with 1 Axes>"
      ]
     },
     "metadata": {
      "needs_background": "light"
     },
     "output_type": "display_data"
    }
   ],
   "source": [
    "x = np.random.geometric(0.5, size=10000)\n",
    "bin = np.arange(0,20,1)\n",
    "\n",
    "plt.hist(x, bins=bin) \n",
    "plt.title(\"Geometric Distribution\") \n",
    "plt.show()"
   ]
  },
  {
   "cell_type": "markdown",
   "metadata": {},
   "source": [
    "We can see that the probability of succes in the first trial is practically half of the size, and that's because the value of p=0.5. We can also see that it rapidily decreases, and that's because the probability of success in the second trial includes a failure in trial 1, which is .5*.5=.25, which for a n=10000 = 2500, which is the value we can see in the second bin."
   ]
  },
  {
   "cell_type": "markdown",
   "metadata": {},
   "source": [
    "***"
   ]
  },
  {
   "cell_type": "markdown",
   "metadata": {},
   "source": [
    "### Poisson distribution:\n",
    "\n",
    "It's a discrete distribution, and describes the number of events in a given time interval. It assumes independent trials of a randomly distributed observations (10). An example could be number of people going to a shop between certain hours. It requires only one parameter (Lambda), which is the expected number fo events.\n",
    "Assumtions:\n",
    "1. Events are independent.\n",
    "2. The rate of occurrence stays constant.\n",
    "\n",
    "Also, as lambda becomes larger and p smaller the poisson distribution behaves like a geometrical distribution (or binomial). And both distributions will behave like normal as datapoints grow, and that's because the mean and variance are both the value of lambda, meaning that as it grows more observations can be possible at each side of the mean with a broader variance(as we can see below).\n",
    "\n",
    "THEN WHY USE THE POISSON DISTRIBUTION?\n",
    "\n",
    "First of all, if a variable is best suited for a binomial distribution then we should perhaps use that formula and distribution. But we have a few situations where a poisson distribution can be handy:\n",
    "\n",
    "1. When factorials and exponentials in a binomial calculation become larger and difficult to calculate as n grows.\n",
    "2. When n and p are unknown but we have the mean number of observations. That mean can be used as the mean of a poisson calculation."
   ]
  },
  {
   "cell_type": "code",
   "execution_count": 130,
   "metadata": {},
   "outputs": [
    {
     "data": {
      "image/png": "[encoded data removed]",
      "text/plain": [
       "<Figure size 432x288 with 1 Axes>"
      ]
     },
     "metadata": {
      "needs_background": "light"
     },
     "output_type": "display_data"
    }
   ],
   "source": [
    "# Different poisson charts for values of lamba. Poisson and binomial distributions \n",
    "# will behave like normal distribution as n grows. \n",
    "\n",
    "sns.distplot(rng.poisson(lam=10, size=1000), hist=False, label='5')\n",
    "sns.distplot(rng.poisson(lam=30, size=1000), hist=False, label='15')\n",
    "sns.distplot(rng.poisson(lam=100, size=1000), hist=False, label='30') \n",
    "\n",
    "plt.title(\"Poisson Distribution\") \n",
    "plt.show()"
   ]
  },
  {
   "cell_type": "markdown",
   "metadata": {},
   "source": [
    "***"
   ]
  },
  {
   "cell_type": "markdown",
   "metadata": {},
   "source": [
    "#### Exponential distribution:\n",
    "It related to the Poisson distribution because it represents the time between events in a Poisson process. That is, while the Poisson might be registering the amount of people going to a store in an hour, the exponential will register the number of hours between people going to the store (time between events)(11).\n",
    "\n",
    "As with the Poisson:\n",
    "1. Events must be independent\n",
    "2. The rate of uccurrence is constant.\n",
    "3. We need Lambda. But in contrast, the mean here will be mean = Unit of measure/lambda\n",
    "\n",
    "We can see below how the probability decreases rapidly as the mean increases, which continuing the example of time between people going to a store would be hours between people. The larger the time requested, the lower the probability."
   ]
  },
  {
   "cell_type": "code",
   "execution_count": 132,
   "metadata": {},
   "outputs": [
    {
     "data": {
      "image/png": "[encoded data removed]",
      "text/plain": [
       "<Figure size 432x288 with 1 Axes>"
      ]
     },
     "metadata": {
      "needs_background": "light"
     },
     "output_type": "display_data"
    }
   ],
   "source": [
    "size = 10000\n",
    "#drawing 10000 sample from \n",
    "#exponential distribution\n",
    "a = rng.exponential(1, size)\n",
    "b = rng.exponential(2, size)\n",
    "c = rng.exponential(3, size)\n",
    "d = rng.exponential(4, size)\n",
    "bin = np.arange(0,10,0.1)\n",
    "\n",
    "plt.hist(a, bins=bin, edgecolor='blue') \n",
    "plt.hist(b, bins=bin, edgecolor='red')\n",
    "plt.hist(c, bins=bin, edgecolor='yellow')\n",
    "plt.hist(d, bins=bin, edgecolor='white')\n",
    "\n",
    "plt.title(\"Exponential Distribution\") \n",
    "plt.show()"
   ]
  },
  {
   "cell_type": "markdown",
   "metadata": {},
   "source": [
    "***"
   ]
  },
  {
   "cell_type": "markdown",
   "metadata": {},
   "source": [
    "#### Hypergeometric Distribution:\n",
    "Like the previous three, this is a discrete observations distribution. It'similar to binomial only without replacement, that is events are not independent, they affect the probability of future events.\n",
    "\n",
    "It takes three parameters:\n",
    "\n",
    "N: population size\n",
    "\n",
    "A: items or observations of interest\n",
    "\n",
    "n: sample size\n",
    "\n",
    "But in numpy we have three parameters: success, failure, sample)"
   ]
  },
  {
   "cell_type": "code",
   "execution_count": 144,
   "metadata": {},
   "outputs": [
    {
     "data": {
      "image/png": "[encoded data removed]",
      "text/plain": [
       "<Figure size 432x288 with 1 Axes>"
      ]
     },
     "metadata": {
      "needs_background": "light"
     },
     "output_type": "display_data"
    }
   ],
   "source": [
    "# If we have 13 spades in a 52 cards deck, and we want to take 5 cards, \n",
    "# we can calculate the probability of those cards being spades\n",
    "# We will get 1 spades card in our 5 cards hand in 4000 cases out of 10000.\n",
    "# and the probability decreases as the number of cards increases.\n",
    "\n",
    "spades = rng.hypergeometric(13, 39, 5, 10000)\n",
    "plt.hist(spades, bins=5, edgecolor='blue')\n",
    "plt.show()"
   ]
  },
  {
   "cell_type": "markdown",
   "metadata": {},
   "source": [
    "### Seed and pseudorandom numbers generation:"
   ]
  },
  {
   "cell_type": "markdown",
   "metadata": {},
   "source": [
    "***"
   ]
  },
  {
   "cell_type": "markdown",
   "metadata": {},
   "source": [
    "### References:\n",
    "1. https://numpy.org/doc/1.21/user/whatisnumpy.html\n",
    "2. https://www.w3schools.com/python/numpy/numpy_intro.asp\n",
    "3. https://runebook.dev/en/docs/numpy/reference/random/bit_generators/index\n",
    "4. https://www.youtube.com/watch?v=bD05uGo_sVI\n",
    "5. https://stackoverflow.com/questions/8385602/why-are-numpy-arrays-so-fast\n",
    "6. Seed: https://www.sharpsightlabs.com/blog/numpy-random-seed/\n",
    "7. https://stackoverflow.com/questions/15474159/shuffle-vs-permute-numpy\n",
    "8. https://www.w3schools.com/statistics/statistics_normal_distribution.php\n",
    "9. https://www.rapidtables.com/math/probability/normal_distribution.html\n",
    "10. https://medium.com/analytics-vidhya/binomial-and-poisson-distribution-337958a384f3\n",
    "11. https://courses.lumenlearning.com/introstats1/chapter/the-exponential-distribution/\n",
    "12. https://www.freecodecamp.org/news/poisson-distribution-a-formula-to-calculate-probability-distribution/"
   ]
  },
  {
   "cell_type": "markdown",
   "metadata": {},
   "source": [
    "***"
   ]
  },
  {
   "cell_type": "markdown",
   "metadata": {},
   "source": [
    "### End."
   ]
  },
  {
   "cell_type": "code",
   "execution_count": null,
   "metadata": {},
   "outputs": [],
   "source": []
  }
 ],
 "metadata": {
  "kernelspec": {
   "display_name": "Python 3",
   "language": "python",
   "name": "python3"
  },
  "language_info": {
   "codemirror_mode": {
    "name": "ipython",
    "version": 3
   },
   "file_extension": ".py",
   "mimetype": "text/x-python",
   "name": "python",
   "nbconvert_exporter": "python",
   "pygments_lexer": "ipython3",
   "version": "3.7.6"
  }
 },
 "nbformat": 4,
 "nbformat_minor": 4
}
