{
 "cells": [
  {
   "cell_type": "markdown",
   "metadata": {},
   "source": [
    "## Numpy.random"
   ]
  },
  {
   "cell_type": "markdown",
   "metadata": {},
   "source": [
    "***\n"
   ]
  },
  {
   "cell_type": "markdown",
   "metadata": {},
   "source": [
    "### Brief introduction to Numpy:\n",
    "\n",
    "Numpy is a python package built for efficiently perform scientific conputing tasks. One of the most important factors is the time and memmory usage optimisation. Some of the improvements of Numpy -in contrast to standard arrays are:\n",
    "\n",
    "1. Numpy arrays are densely packed arrays of homogeneous type, while python lists are pointers to objects. \n",
    "\n",
    "2. requires that all objects are of the same data type, using the same memory size. In a regular array, objects don't need to be of the same data type, therefore more information about each one of the objects is stored and retrieved in each operation.\n",
    "\n",
    "3. Arrays are stored at one continuous place so they can be access and manipulated nore efficiently (2).\n",
    "\n",
    "4. many Numpy operations are implemented in C, reducing the performance of normal loop operations in Python.(4)\n",
    "\n",
    "We can verify the difference in execution time with the following code:"
   ]
  },
  {
   "cell_type": "code",
   "execution_count": 90,
   "metadata": {},
   "outputs": [
    {
     "name": "stdout",
     "output_type": "stream",
     "text": [
      "Time required by standard array:  751.3892650604248\n",
      "Time required by Numpy:  64.27907943725586\n"
     ]
    }
   ],
   "source": [
    "import numpy as np\n",
    "import time\n",
    "import sys\n",
    "\n",
    "# Size of array:\n",
    "size = 1000000\n",
    "\n",
    "# Two standard python arrays:\n",
    "list1 = range(size)\n",
    "list2 = range(size) \n",
    "\n",
    "# Numpy arrays:\n",
    "a1 = np.arange(size)\n",
    "a2 = np.arange(size)\n",
    "\n",
    "# Test:\n",
    "    # Standard arrays:\n",
    "start = time.time()\n",
    "\n",
    "    # Adding the two standard python arrays:\n",
    "result = [(x+y) for x,y in zip(list1, list2)]\n",
    "\n",
    "    # Returning the time required:\n",
    "print (\"Time required by standard array: \", (time.time() - start)*1000)\n",
    "\n",
    "    # Numpy arrays:\n",
    "start = time.time()\n",
    "\n",
    "    # adding the two Numpy arrays (also notice the simplicity of the code)\n",
    "result = a1 + a2\n",
    "\n",
    "    # Returning the time required:\n",
    "print(\"Time required by Numpy: \", (time.time() - start)*1000)"
   ]
  },
  {
   "cell_type": "markdown",
   "metadata": {},
   "source": [
    "We can see that Numpy took roughly 10% of the time required by the standard array operation.\n",
    "\n",
    "We will focus on the random package in the Numpy library."
   ]
  },
  {
   "cell_type": "markdown",
   "metadata": {},
   "source": [
    "***\n"
   ]
  },
  {
   "cell_type": "markdown",
   "metadata": {},
   "source": [
    "### Overal purpose of Numpy.random:\n",
    "\n",
    "The random package can generate pseudo-random numbers using a BitGenerator (seed) for the sequence and a Generator to produce the values derived from that seed, and from different distributions (3)\n",
    "\n",
    "The advantage of using a generator over lists is that the former doesn't hold all the values in memory (very important with large numbers). Instead, it create the objects but waits for an operation to be called on those objects(4)."
   ]
  },
  {
   "cell_type": "markdown",
   "metadata": {},
   "source": [
    "***\n"
   ]
  },
  {
   "cell_type": "markdown",
   "metadata": {},
   "source": [
    "\n",
    "### Simple random data:\n",
    "<br>\n",
    "Within this functions we can generate:<br>\n",
    "    a. Integers - Integer Function. <br>\n",
    "    b. Float values from an interval - random function. <br>\n",
    "    c. F sample from an array - choice function. <br>\n",
    "    d. Random bytes - bytes function. <br>\n",
    "    <br>\n",
    "    That means we can basically generate any multidimensional structure we want with our data.\n",
    "    "
   ]
  },
  {
   "cell_type": "markdown",
   "metadata": {},
   "source": [
    "#### Integers:"
   ]
  },
  {
   "cell_type": "code",
   "execution_count": 91,
   "metadata": {},
   "outputs": [],
   "source": [
    "import numpy as np\n",
    "from numpy.random import default_rng\n",
    "rng = default_rng()"
   ]
  },
  {
   "cell_type": "code",
   "execution_count": 92,
   "metadata": {},
   "outputs": [
    {
     "data": {
      "text/plain": [
       "1"
      ]
     },
     "execution_count": 92,
     "metadata": {},
     "output_type": "execute_result"
    }
   ],
   "source": [
    "# Random integers:\n",
    "# Providing the highest value (exclusive):\n",
    "a = rng.integers(2)\n",
    "a"
   ]
  },
  {
   "cell_type": "code",
   "execution_count": 93,
   "metadata": {},
   "outputs": [
    {
     "data": {
      "text/plain": [
       "4"
      ]
     },
     "execution_count": 93,
     "metadata": {},
     "output_type": "execute_result"
    }
   ],
   "source": [
    "# Random integers:\n",
    "# Providing both lower and high (exclusive) values:\n",
    "a = rng.integers(2, 5)\n",
    "a"
   ]
  },
  {
   "cell_type": "code",
   "execution_count": 94,
   "metadata": {},
   "outputs": [
    {
     "data": {
      "text/plain": [
       "array([2, 3, 3, 2, 3, 2])"
      ]
     },
     "execution_count": 94,
     "metadata": {},
     "output_type": "execute_result"
    }
   ],
   "source": [
    "# Arrays: \n",
    "# Generate array by adding the size to the code above:\n",
    "a = rng.integers(2, 5, 6)\n",
    "a"
   ]
  },
  {
   "cell_type": "code",
   "execution_count": 95,
   "metadata": {},
   "outputs": [
    {
     "data": {
      "text/plain": [
       "array([2, 4, 2, 3, 4, 3])"
      ]
     },
     "execution_count": 95,
     "metadata": {},
     "output_type": "execute_result"
    }
   ],
   "source": [
    "# Same as above only specifying the size:\n",
    "b = rng.integers(2, 5, size=6)\n",
    "b"
   ]
  },
  {
   "cell_type": "code",
   "execution_count": 96,
   "metadata": {},
   "outputs": [
    {
     "data": {
      "text/plain": [
       "array([3, 2, 4, 3, 4, 5])"
      ]
     },
     "execution_count": 96,
     "metadata": {},
     "output_type": "execute_result"
    }
   ],
   "source": [
    "# Including high value:\n",
    "a = rng.integers(2, 5,size=6, endpoint=True)\n",
    "a"
   ]
  },
  {
   "cell_type": "code",
   "execution_count": 97,
   "metadata": {},
   "outputs": [
    {
     "data": {
      "text/plain": [
       "array([[3, 3],\n",
       "       [2, 4],\n",
       "       [4, 3],\n",
       "       [4, 4],\n",
       "       [5, 4],\n",
       "       [5, 2]])"
      ]
     },
     "execution_count": 97,
     "metadata": {},
     "output_type": "execute_result"
    }
   ],
   "source": [
    "# Generatin 2 dimensional arrays:\n",
    "#   Where the first value in \"size\" is the number of arrays\n",
    "#   and the second value is the length of the array.\n",
    "a = rng.integers(2, 5,size=(6,2), endpoint=True)\n",
    "a"
   ]
  },
  {
   "cell_type": "code",
   "execution_count": 98,
   "metadata": {},
   "outputs": [
    {
     "data": {
      "text/plain": [
       "array([[5, 3],\n",
       "       [2, 2],\n",
       "       [5, 5],\n",
       "       [5, 5],\n",
       "       [2, 4]])"
      ]
     },
     "execution_count": 98,
     "metadata": {},
     "output_type": "execute_result"
    }
   ],
   "source": [
    "# Plotting two dimensional arrays\n",
    "\n",
    "import matplotlib.pyplot as plt\n",
    "\n",
    "rng = np.random.default_rng()\n",
    "a = rng.integers(2, 5,size=(5,2), endpoint=True)\n",
    "a"
   ]
  },
  {
   "cell_type": "code",
   "execution_count": 99,
   "metadata": {},
   "outputs": [
    {
     "data": {
      "image/png": "[encoded data removed]",
      "text/plain": [
       "<Figure size 432x288 with 1 Axes>"
      ]
     },
     "metadata": {
      "needs_background": "light"
     },
     "output_type": "display_data"
    }
   ],
   "source": [
    "plt.plot(a)\n",
    "plt.show()\n",
    "# Where values at inex[0] are reprenseted in blue line:"
   ]
  },
  {
   "cell_type": "code",
   "execution_count": 100,
   "metadata": {},
   "outputs": [
    {
     "data": {
      "text/plain": [
       "array([79, 23, 78, 53, 20, 83, 97, 23, 14, 56, 66, 11,  8, 50,  2, 26, 70,\n",
       "       76,  3, 59, 96, 38, 91,  7,  5, 68, 74, 16, 23, 64, 36,  9, 31,  7,\n",
       "       91, 91, 87,  7, 16, 54, 65, 65, 32, 98, 92, 55,  6, 43, 40, 23, 88,\n",
       "        3, 66, 59, 14, 55, 29, 59, 32,  6, 59, 70,  1, 20, 71, 29, 38, 83,\n",
       "       73, 80, 13, 45, 51, 17, 29, 80, 74, 37, 56, 72, 26, 46,  3, 87, 51,\n",
       "       94, 31, 27, 20, 70, 28, 44, 41, 73, 11,  1, 73,  9, 26,  5])"
      ]
     },
     "execution_count": 100,
     "metadata": {},
     "output_type": "execute_result"
    }
   ],
   "source": [
    "# We can also mae a model of a varible by just adding a math operation to a variable\n",
    "#  to generate another variable.\n",
    "\n",
    "c = rng.integers(1, 100, size=100)\n",
    "d = c*2\n",
    "c\n",
    "# Just by adding c*2, now d is another array which varies with c.\n"
   ]
  },
  {
   "cell_type": "code",
   "execution_count": 101,
   "metadata": {},
   "outputs": [
    {
     "data": {
      "text/plain": [
       "array([493039,  12167, 474552, 148877,   8000, 571787, 912673,  12167,\n",
       "         2744, 175616, 287496,   1331,    512, 125000,      8,  17576,\n",
       "       343000, 438976,     27, 205379, 884736,  54872, 753571,    343,\n",
       "          125, 314432, 405224,   4096,  12167, 262144,  46656,    729,\n",
       "        29791,    343, 753571, 753571, 658503,    343,   4096, 157464,\n",
       "       274625, 274625,  32768, 941192, 778688, 166375,    216,  79507,\n",
       "        64000,  12167, 681472,     27, 287496, 205379,   2744, 166375,\n",
       "        24389, 205379,  32768,    216, 205379, 343000,      1,   8000,\n",
       "       357911,  24389,  54872, 571787, 389017, 512000,   2197,  91125,\n",
       "       132651,   4913,  24389, 512000, 405224,  50653, 175616, 373248,\n",
       "        17576,  97336,     27, 658503, 132651, 830584,  29791,  19683,\n",
       "         8000, 343000,  21952,  85184,  68921, 389017,   1331,      1,\n",
       "       389017,    729,  17576,    125])"
      ]
     },
     "execution_count": 101,
     "metadata": {},
     "output_type": "execute_result"
    }
   ],
   "source": [
    "d = c**3\n",
    "d"
   ]
  },
  {
   "cell_type": "code",
   "execution_count": 102,
   "metadata": {},
   "outputs": [
    {
     "data": {
      "image/png": "[encoded data removed]",
      "text/plain": [
       "<Figure size 432x288 with 1 Axes>"
      ]
     },
     "metadata": {
      "needs_background": "light"
     },
     "output_type": "display_data"
    }
   ],
   "source": [
    "# And we can plot them:\n",
    "plt.plot(c, d)\n",
    "plt.show()"
   ]
  },
  {
   "cell_type": "markdown",
   "metadata": {},
   "source": [
    "#### Float number generation:\n",
    "If we want to generate float numbers instead of integers, we can use the random() where:\n",
    "<br>\n",
    "1. The first value is the size of the array (How many values if only one array, or arrays for given values)\n",
    "<br>\n",
    "2. The length of the arrays.\n",
    "<br>\n",
    "3. How many arrays of length (2)"
   ]
  },
  {
   "cell_type": "code",
   "execution_count": 103,
   "metadata": {},
   "outputs": [
    {
     "data": {
      "text/plain": [
       "array([0.32379596, 0.69061771, 0.00981344, 0.23904631, 0.06304327])"
      ]
     },
     "execution_count": 103,
     "metadata": {},
     "output_type": "execute_result"
    }
   ],
   "source": [
    "# Five random floats:\n",
    "rng = np.random.default_rng()\n",
    "rng.random((5))\n"
   ]
  },
  {
   "cell_type": "code",
   "execution_count": 104,
   "metadata": {},
   "outputs": [
    {
     "data": {
      "text/plain": [
       "array([[0.39965694, 0.28808625],\n",
       "       [0.86245407, 0.52871162],\n",
       "       [0.49463691, 0.93683415],\n",
       "       [0.03358613, 0.67002236],\n",
       "       [0.0588356 , 0.37770962]])"
      ]
     },
     "execution_count": 104,
     "metadata": {},
     "output_type": "execute_result"
    }
   ],
   "source": [
    "# Five random arrays of length 2\n",
    "rng.random((5,2))"
   ]
  },
  {
   "cell_type": "code",
   "execution_count": 105,
   "metadata": {},
   "outputs": [
    {
     "data": {
      "text/plain": [
       "array([[[0.44958773, 0.6706399 , 0.96940083],\n",
       "        [0.15369291, 0.39871646, 0.01414295]],\n",
       "\n",
       "       [[0.76511873, 0.01609717, 0.61753696],\n",
       "        [0.18362717, 0.09485694, 0.266702  ]],\n",
       "\n",
       "       [[0.77985925, 0.59104587, 0.66550941],\n",
       "        [0.76407323, 0.55638788, 0.27433549]],\n",
       "\n",
       "       [[0.57413806, 0.53602418, 0.60063497],\n",
       "        [0.51249684, 0.1185404 , 0.99077625]],\n",
       "\n",
       "       [[0.97181937, 0.59500825, 0.56311782],\n",
       "        [0.1111967 , 0.14730078, 0.1151196 ]]])"
      ]
     },
     "execution_count": 105,
     "metadata": {},
     "output_type": "execute_result"
    }
   ],
   "source": [
    "# Five random arrays of 2 columns with 3 values\n",
    "c = rng.random((5,2,3))\n",
    "c"
   ]
  },
  {
   "cell_type": "markdown",
   "metadata": {},
   "source": [
    "#### Choice generation:\n",
    "We can generate an array from another array, and we can manipulate the probability of each element\n"
   ]
  },
  {
   "cell_type": "code",
   "execution_count": 106,
   "metadata": {},
   "outputs": [],
   "source": [
    "rng = np.random.default_rng()"
   ]
  },
  {
   "cell_type": "code",
   "execution_count": 107,
   "metadata": {},
   "outputs": [
    {
     "data": {
      "text/plain": [
       "array([6, 3, 7, 7, 4, 1, 0, 6, 5, 5, 6, 7])"
      ]
     },
     "execution_count": 107,
     "metadata": {},
     "output_type": "execute_result"
    }
   ],
   "source": [
    "# array with max value of 8, and 10 values\n",
    "rng.choice(8, 12)"
   ]
  },
  {
   "cell_type": "code",
   "execution_count": 108,
   "metadata": {},
   "outputs": [
    {
     "data": {
      "text/plain": [
       "array([7, 7, 0, 6, 6, 6, 7, 7, 7, 7])"
      ]
     },
     "execution_count": 108,
     "metadata": {},
     "output_type": "execute_result"
    }
   ],
   "source": [
    "# Array where last two values have greater probabilities of being chosen:\n",
    " # p must add to 1:\n",
    "rng.choice(8, 10, p=[0.1, 0, 0,0,0,0,0.3, 0.6])\n"
   ]
  },
  {
   "cell_type": "markdown",
   "metadata": {},
   "source": [
    "***\n"
   ]
  },
  {
   "cell_type": "markdown",
   "metadata": {},
   "source": [
    "### Permutations:\n",
    "With these functions we can change the order of values in an array, in two ways."
   ]
  },
  {
   "cell_type": "markdown",
   "metadata": {},
   "source": [
    "#### Suffle:\n",
    "Shuffles the elements without keeping the original order.\n",
    "The advantage is that shuffling is a simpler coputational \n",
    "task than generating a range every time we need it:\n"
   ]
  },
  {
   "cell_type": "code",
   "execution_count": 109,
   "metadata": {},
   "outputs": [
    {
     "data": {
      "text/plain": [
       "array([8, 0, 3, 9, 4, 7, 1, 5, 2, 6])"
      ]
     },
     "execution_count": 109,
     "metadata": {},
     "output_type": "execute_result"
    }
   ],
   "source": [
    "# We can see the difference in the result by calling it twice. \n",
    "arr = np.arange(10)\n",
    "rng.shuffle(arr)\n",
    "arr"
   ]
  },
  {
   "cell_type": "code",
   "execution_count": 110,
   "metadata": {},
   "outputs": [
    {
     "data": {
      "text/plain": [
       "array([2, 5, 4, 7, 1, 0, 9, 8, 6, 3])"
      ]
     },
     "execution_count": 110,
     "metadata": {},
     "output_type": "execute_result"
    }
   ],
   "source": [
    "arr = np.arange(10)\n",
    "rng.shuffle(arr)\n",
    "arr"
   ]
  },
  {
   "cell_type": "code",
   "execution_count": 111,
   "metadata": {},
   "outputs": [
    {
     "data": {
      "text/plain": [
       "array([[ 9, 10, 11],\n",
       "       [ 6,  7,  8],\n",
       "       [ 3,  4,  5],\n",
       "       [ 0,  1,  2]])"
      ]
     },
     "execution_count": 111,
     "metadata": {},
     "output_type": "execute_result"
    }
   ],
   "source": [
    "#We can also divide it in sub arrays:\n",
    " # The reshape must match the length of the array\n",
    "arr = np.arange(12).reshape((4, 3))\n",
    "rng.shuffle(arr)\n",
    "arr"
   ]
  },
  {
   "cell_type": "markdown",
   "metadata": {},
   "source": [
    "### Permutations:\n",
    "At a first look it's hard to tell the difference between permutation and shuffle. But the differences are(7):\n",
    "1. If passed an array, Permutations will return a shuffled copy of the array, whereas Shuffle will return an in-place shuffle of the array.\n",
    "2. If passed an integer iit will return a shuffled range."
   ]
  },
  {
   "cell_type": "code",
   "execution_count": 112,
   "metadata": {},
   "outputs": [
    {
     "name": "stdout",
     "output_type": "stream",
     "text": [
      "[[ 9 10 11]\n",
      " [ 6  7  8]\n",
      " [ 3  4  5]\n",
      " [ 0  1  2]]\n"
     ]
    }
   ],
   "source": [
    "# We'll use the same array to compare both functions:\n",
    "# Permutations:\n",
    " # We can see that the original array has not been changed. \n",
    "    # So we could store the permutation in another variable and work on it\n",
    "    # without risking loosign the original variable\n",
    "array = np.array([1, 2, 3, 4, 5])\n",
    "rng.permutation(array)\n",
    "print(arr)"
   ]
  },
  {
   "cell_type": "code",
   "execution_count": 113,
   "metadata": {},
   "outputs": [
    {
     "name": "stdout",
     "output_type": "stream",
     "text": [
      "[5 2 3 1 4]\n"
     ]
    }
   ],
   "source": [
    "# Shuffle:\n",
    " # The original variable has been modified and lost in the process.\n",
    "array = np.array([1, 2, 3, 4, 5])\n",
    "rng.shuffle(array)\n",
    "print(array)"
   ]
  },
  {
   "cell_type": "markdown",
   "metadata": {},
   "source": [
    "### Permuted:\n",
    "a combination of Shuffle and permutation. It allows to slice the original array into different sub arrays (like Shuffle) but the original array stays unchanged (like Permutations). "
   ]
  },
  {
   "cell_type": "code",
   "execution_count": 119,
   "metadata": {},
   "outputs": [
    {
     "data": {
      "text/plain": [
       "array([[ 0,  1,  2,  3,  4,  5,  6,  7],\n",
       "       [ 8,  9, 10, 11, 12, 13, 14, 15],\n",
       "       [16, 17, 18, 19, 20, 21, 22, 23]])"
      ]
     },
     "execution_count": 119,
     "metadata": {},
     "output_type": "execute_result"
    }
   ],
   "source": [
    "rng = np.random.default_rng()\n",
    "x = np.arange(24).reshape(3, 8)\n",
    "x\n"
   ]
  },
  {
   "cell_type": "code",
   "execution_count": null,
   "metadata": {},
   "outputs": [],
   "source": []
  },
  {
   "cell_type": "code",
   "execution_count": null,
   "metadata": {},
   "outputs": [],
   "source": []
  },
  {
   "cell_type": "markdown",
   "metadata": {},
   "source": [
    "***\n"
   ]
  },
  {
   "cell_type": "markdown",
   "metadata": {},
   "source": [
    "### Distributions:"
   ]
  },
  {
   "cell_type": "markdown",
   "metadata": {},
   "source": [
    "***"
   ]
  },
  {
   "cell_type": "markdown",
   "metadata": {},
   "source": [
    "### Seed and pseudorandom numbers generation:"
   ]
  },
  {
   "cell_type": "markdown",
   "metadata": {},
   "source": [
    "***"
   ]
  },
  {
   "cell_type": "markdown",
   "metadata": {},
   "source": [
    "### References:\n",
    "1. https://numpy.org/doc/1.21/user/whatisnumpy.html\n",
    "2. https://www.w3schools.com/python/numpy/numpy_intro.asp\n",
    "3. https://runebook.dev/en/docs/numpy/reference/random/bit_generators/index\n",
    "4. https://www.youtube.com/watch?v=bD05uGo_sVI\n",
    "5. https://stackoverflow.com/questions/8385602/why-are-numpy-arrays-so-fast\n",
    "6. Seed: https://www.sharpsightlabs.com/blog/numpy-random-seed/\n",
    "7. https://stackoverflow.com/questions/15474159/shuffle-vs-permute-numpy"
   ]
  },
  {
   "cell_type": "markdown",
   "metadata": {},
   "source": [
    "***"
   ]
  },
  {
   "cell_type": "markdown",
   "metadata": {},
   "source": [
    "### End."
   ]
  },
  {
   "cell_type": "code",
   "execution_count": null,
   "metadata": {},
   "outputs": [],
   "source": []
  }
 ],
 "metadata": {
  "kernelspec": {
   "display_name": "Python 3",
   "language": "python",
   "name": "python3"
  },
  "language_info": {
   "codemirror_mode": {
    "name": "ipython",
    "version": 3
   },
   "file_extension": ".py",
   "mimetype": "text/x-python",
   "name": "python",
   "nbconvert_exporter": "python",
   "pygments_lexer": "ipython3",
   "version": "3.7.6"
  }
 },
 "nbformat": 4,
 "nbformat_minor": 4
}
