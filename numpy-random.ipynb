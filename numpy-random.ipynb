{
 "cells": [
  {
   "cell_type": "markdown",
   "metadata": {},
   "source": [
    "## Numpy.random"
   ]
  },
  {
   "cell_type": "markdown",
   "metadata": {},
   "source": [
    "***\n",
    "***"
   ]
  },
  {
   "cell_type": "markdown",
   "metadata": {},
   "source": [
    "### Brief introduction to Numpy:\n",
    "\n",
    "Numpy is a python package built for efficiently perform scientific conputing tasks. One of the most important factors is the time and memory usage optimisation. Some of the improvements of Numpy -in contrast to standard arrays are:\n",
    "\n",
    "1. Numpy arrays are densely packed arrays of homogeneous type, while python lists are pointers to objects. \n",
    "\n",
    "2. requires that all objects are of the same data type, using the same memory size. In a regular array, objects don't need to be of the same data type, therefore more information about each one of the objects is stored and retrieved in each operation.\n",
    "\n",
    "3. Arrays are stored at one continuous place so they can be access and manipulated nore efficiently (2).\n",
    "\n",
    "4. Many Numpy operations are implemented in C, reducing the performance of normal loop operations in Python.(4)\n",
    "\n",
    "We can verify the difference in execution time with the following code:"
   ]
  },
  {
   "cell_type": "code",
   "execution_count": 38,
   "metadata": {},
   "outputs": [
    {
     "name": "stdout",
     "output_type": "stream",
     "text": [
      "Time required by standard array:  313.4772777557373\n",
      "Time required by Numpy:  40.132999420166016\n"
     ]
    }
   ],
   "source": [
    "import numpy as np\n",
    "import time\n",
    "import sys\n",
    "\n",
    "\n",
    "# Size of array:\n",
    "size = 1000000\n",
    "\n",
    "# Two standard python arrays:\n",
    "list1 = range(size)\n",
    "list2 = range(size) \n",
    "\n",
    "# Numpy arrays:\n",
    "a1 = np.arange(size)\n",
    "a2 = np.arange(size)\n",
    "\n",
    "# Test:\n",
    "    # Standard arrays:\n",
    "start = time.time()\n",
    "\n",
    "    # Adding the two standard python arrays:\n",
    "result = [(x+y) for x,y in zip(list1, list2)]\n",
    "\n",
    "    # Returning the time required:\n",
    "print (\"Time required by standard array: \", (time.time() - start)*1000)\n",
    "\n",
    "    # Numpy arrays:\n",
    "start = time.time()\n",
    "\n",
    "    # adding the two Numpy arrays (also notice the simplicity of the code)\n",
    "result = a1 + a2\n",
    "\n",
    "    # Returning the time required:\n",
    "print(\"Time required by Numpy: \", (time.time() - start)*1000)"
   ]
  },
  {
   "cell_type": "markdown",
   "metadata": {},
   "source": [
    "We can see that Numpy took roughly 10% of the time required by the standard array operation.\n",
    "\n",
    "We will focus on the random package in the Numpy library."
   ]
  },
  {
   "cell_type": "markdown",
   "metadata": {},
   "source": [
    "***\n",
    "***"
   ]
  },
  {
   "cell_type": "markdown",
   "metadata": {},
   "source": [
    "### Overal purpose of Numpy.random:\n",
    "\n",
    "The random package can generate pseudo-random numbers using a BitGenerator (seed) for the sequence and a Generator to produce the values derived from that seed, and from different distributions (3).\n",
    "\n",
    "The advantage of using a generator over lists is that the former doesn't hold all the values in memory (very important with large numbers). Instead, it create the objects but awaits for an operation to be called on those objects(4)."
   ]
  },
  {
   "cell_type": "markdown",
   "metadata": {},
   "source": [
    "***\n",
    "***"
   ]
  },
  {
   "cell_type": "markdown",
   "metadata": {},
   "source": [
    "\n",
    "### Simple random data:\n",
    "\n",
    "Within this functions we can generate:<br>\n",
    "    a. Integers - Integer Function. <br>\n",
    "    b. Float values from an interval - random function. <br>\n",
    "    c. F sample from an array - choice function. <br>\n",
    "    d. Random bytes - bytes function. <br>\n",
    "    <br>\n",
    "    That means we can basically generate any multidimensional structure we want with our data.\n",
    "    \n",
    "    "
   ]
  },
  {
   "cell_type": "markdown",
   "metadata": {},
   "source": [
    "***"
   ]
  },
  {
   "cell_type": "markdown",
   "metadata": {},
   "source": [
    "#### Integers:"
   ]
  },
  {
   "cell_type": "code",
   "execution_count": 39,
   "metadata": {},
   "outputs": [],
   "source": [
    "import numpy as np\n",
    "from numpy.random import default_rng\n",
    "rng = default_rng()"
   ]
  },
  {
   "cell_type": "code",
   "execution_count": 40,
   "metadata": {},
   "outputs": [
    {
     "data": {
      "text/plain": [
       "1"
      ]
     },
     "execution_count": 40,
     "metadata": {},
     "output_type": "execute_result"
    }
   ],
   "source": [
    "# Random integers:\n",
    "# Providing the highest value (exclusive):\n",
    "a = rng.integers(2)\n",
    "a"
   ]
  },
  {
   "cell_type": "code",
   "execution_count": 41,
   "metadata": {},
   "outputs": [
    {
     "data": {
      "text/plain": [
       "3"
      ]
     },
     "execution_count": 41,
     "metadata": {},
     "output_type": "execute_result"
    }
   ],
   "source": [
    "# Random integers:\n",
    "# Providing both lower and high (exclusive) values:\n",
    "a = rng.integers(2, 5)\n",
    "a"
   ]
  },
  {
   "cell_type": "code",
   "execution_count": 42,
   "metadata": {},
   "outputs": [
    {
     "data": {
      "text/plain": [
       "array([4, 2, 2, 2, 4, 2])"
      ]
     },
     "execution_count": 42,
     "metadata": {},
     "output_type": "execute_result"
    }
   ],
   "source": [
    "# Arrays: \n",
    "# Generate array by adding the size to the code above:\n",
    "a = rng.integers(2, 5, 6)\n",
    "a"
   ]
  },
  {
   "cell_type": "code",
   "execution_count": 43,
   "metadata": {},
   "outputs": [
    {
     "data": {
      "text/plain": [
       "array([3, 2, 3, 4, 2, 2])"
      ]
     },
     "execution_count": 43,
     "metadata": {},
     "output_type": "execute_result"
    }
   ],
   "source": [
    "# Same as above only specifying the size:\n",
    "b = rng.integers(2, 5, size=6)\n",
    "b"
   ]
  },
  {
   "cell_type": "code",
   "execution_count": 44,
   "metadata": {},
   "outputs": [
    {
     "data": {
      "text/plain": [
       "array([2, 4, 3, 3, 4, 3])"
      ]
     },
     "execution_count": 44,
     "metadata": {},
     "output_type": "execute_result"
    }
   ],
   "source": [
    "# Including high value:\n",
    "a = rng.integers(2, 5,size=6, endpoint=True)\n",
    "a"
   ]
  },
  {
   "cell_type": "code",
   "execution_count": 45,
   "metadata": {},
   "outputs": [
    {
     "data": {
      "text/plain": [
       "array([[3, 2],\n",
       "       [2, 2],\n",
       "       [5, 2],\n",
       "       [2, 3],\n",
       "       [2, 2],\n",
       "       [5, 3]])"
      ]
     },
     "execution_count": 45,
     "metadata": {},
     "output_type": "execute_result"
    }
   ],
   "source": [
    "# Generatin 2 dimensional arrays:\n",
    "#   Where the first value in \"size\" is the number of arrays\n",
    "#   and the second value is the length of the array.\n",
    "a = rng.integers(2, 5,size=(6,2), endpoint=True)\n",
    "a"
   ]
  },
  {
   "cell_type": "code",
   "execution_count": 46,
   "metadata": {},
   "outputs": [
    {
     "data": {
      "text/plain": [
       "array([[4, 5],\n",
       "       [3, 3],\n",
       "       [5, 2],\n",
       "       [5, 2],\n",
       "       [2, 4]])"
      ]
     },
     "execution_count": 46,
     "metadata": {},
     "output_type": "execute_result"
    }
   ],
   "source": [
    "# Plotting two dimensional arrays\n",
    "\n",
    "import matplotlib.pyplot as plt\n",
    "\n",
    "rng = np.random.default_rng()\n",
    "a = rng.integers(2, 5,size=(5,2), endpoint=True)\n",
    "a"
   ]
  },
  {
   "cell_type": "code",
   "execution_count": 47,
   "metadata": {},
   "outputs": [
    {
     "data": {
      "image/png": "[encoded data removed]",
      "text/plain": [
       "<Figure size 432x288 with 1 Axes>"
      ]
     },
     "metadata": {
      "needs_background": "light"
     },
     "output_type": "display_data"
    }
   ],
   "source": [
    "plt.plot(a)\n",
    "plt.show()\n",
    "# Where values at inex[0] are reprenseted in blue line:"
   ]
  },
  {
   "cell_type": "code",
   "execution_count": 48,
   "metadata": {},
   "outputs": [
    {
     "data": {
      "text/plain": [
       "array([77, 17, 25, 33, 76, 15, 77, 17, 31, 65, 41, 15, 23, 95, 62,  7, 71,\n",
       "       41, 88, 99, 37, 98, 92, 46, 28, 59,  5, 77, 12, 16, 15, 27, 24, 96,\n",
       "       49, 93, 26,  7, 57, 48, 12, 76, 36, 54, 37, 13, 90, 34, 48, 32, 49,\n",
       "       67, 96, 12, 25,  9, 20, 50, 93, 32, 32, 26, 40, 85, 27, 77, 13, 31,\n",
       "       55, 34, 85, 99,  8, 50, 71, 73, 31, 83, 87, 44, 98,  6, 86, 98, 75,\n",
       "       90,  5, 96, 93, 49, 27, 73, 91, 19, 81, 79, 25, 32,  2, 40])"
      ]
     },
     "execution_count": 48,
     "metadata": {},
     "output_type": "execute_result"
    }
   ],
   "source": [
    "# We can also mae a model of a varible by just adding a math operation to a variable\n",
    "#  to generate another variable.\n",
    "\n",
    "c = rng.integers(1, 100, size=100)\n",
    "d = c*2\n",
    "c\n",
    "# Just by adding c*2, now d is another array which varies with c.\n"
   ]
  },
  {
   "cell_type": "code",
   "execution_count": 49,
   "metadata": {},
   "outputs": [
    {
     "data": {
      "text/plain": [
       "array([456533,   4913,  15625,  35937, 438976,   3375, 456533,   4913,\n",
       "        29791, 274625,  68921,   3375,  12167, 857375, 238328,    343,\n",
       "       357911,  68921, 681472, 970299,  50653, 941192, 778688,  97336,\n",
       "        21952, 205379,    125, 456533,   1728,   4096,   3375,  19683,\n",
       "        13824, 884736, 117649, 804357,  17576,    343, 185193, 110592,\n",
       "         1728, 438976,  46656, 157464,  50653,   2197, 729000,  39304,\n",
       "       110592,  32768, 117649, 300763, 884736,   1728,  15625,    729,\n",
       "         8000, 125000, 804357,  32768,  32768,  17576,  64000, 614125,\n",
       "        19683, 456533,   2197,  29791, 166375,  39304, 614125, 970299,\n",
       "          512, 125000, 357911, 389017,  29791, 571787, 658503,  85184,\n",
       "       941192,    216, 636056, 941192, 421875, 729000,    125, 884736,\n",
       "       804357, 117649,  19683, 389017, 753571,   6859, 531441, 493039,\n",
       "        15625,  32768,      8,  64000])"
      ]
     },
     "execution_count": 49,
     "metadata": {},
     "output_type": "execute_result"
    }
   ],
   "source": [
    "d = c**3\n",
    "d"
   ]
  },
  {
   "cell_type": "code",
   "execution_count": 50,
   "metadata": {},
   "outputs": [
    {
     "data": {
      "image/png": "[encoded data removed]",
      "text/plain": [
       "<Figure size 432x288 with 1 Axes>"
      ]
     },
     "metadata": {
      "needs_background": "light"
     },
     "output_type": "display_data"
    }
   ],
   "source": [
    "# And we can plot them:\n",
    "plt.plot(c, d)\n",
    "plt.show()"
   ]
  },
  {
   "cell_type": "markdown",
   "metadata": {},
   "source": [
    "***"
   ]
  },
  {
   "cell_type": "markdown",
   "metadata": {},
   "source": [
    "#### Float number generation:\n",
    "If we want to generate float numbers instead of integers, we can use the random() where:\n",
    "<br>\n",
    "1. The first value is the size of the array (How many values if only one array, or arrays for given values)\n",
    "<br>\n",
    "2. The length of the arrays.\n",
    "<br>\n",
    "3. How many arrays of length (2)"
   ]
  },
  {
   "cell_type": "code",
   "execution_count": 51,
   "metadata": {},
   "outputs": [
    {
     "data": {
      "text/plain": [
       "array([0.63961526, 0.53663482, 0.80514329, 0.45629268, 0.06604402])"
      ]
     },
     "execution_count": 51,
     "metadata": {},
     "output_type": "execute_result"
    }
   ],
   "source": [
    "# Five random floats:\n",
    "\n",
    "rng = np.random.default_rng()\n",
    "rng.random((5))"
   ]
  },
  {
   "cell_type": "code",
   "execution_count": 52,
   "metadata": {},
   "outputs": [
    {
     "data": {
      "text/plain": [
       "array([[0.03798623, 0.22380449],\n",
       "       [0.41391873, 0.18957412],\n",
       "       [0.24192064, 0.02896071],\n",
       "       [0.30266178, 0.69665187],\n",
       "       [0.32780339, 0.41389618]])"
      ]
     },
     "execution_count": 52,
     "metadata": {},
     "output_type": "execute_result"
    }
   ],
   "source": [
    "# Five random arrays of length 2\n",
    "\n",
    "rng.random((5,2))"
   ]
  },
  {
   "cell_type": "code",
   "execution_count": 53,
   "metadata": {},
   "outputs": [
    {
     "data": {
      "text/plain": [
       "array([[[0.53131822, 0.09436295, 0.92498945],\n",
       "        [0.39638903, 0.83036346, 0.67366923]],\n",
       "\n",
       "       [[0.31976842, 0.15406375, 0.83329552],\n",
       "        [0.09960709, 0.79232138, 0.79431349]],\n",
       "\n",
       "       [[0.55790336, 0.82067031, 0.42882753],\n",
       "        [0.8247514 , 0.07188643, 0.15495288]],\n",
       "\n",
       "       [[0.3473681 , 0.56219958, 0.52412035],\n",
       "        [0.33214714, 0.23130376, 0.61776783]],\n",
       "\n",
       "       [[0.13363934, 0.51814116, 0.39704723],\n",
       "        [0.40561139, 0.84971452, 0.01127958]]])"
      ]
     },
     "execution_count": 53,
     "metadata": {},
     "output_type": "execute_result"
    }
   ],
   "source": [
    "# Five random arrays of 2 columns with 3 values\n",
    "\n",
    "c = rng.random((5,2,3))\n",
    "c"
   ]
  },
  {
   "cell_type": "markdown",
   "metadata": {},
   "source": [
    "***"
   ]
  },
  {
   "cell_type": "markdown",
   "metadata": {},
   "source": [
    "#### Choice generation:\n",
    "We can generate an array from another array, and we can manipulate the probability of each element\n"
   ]
  },
  {
   "cell_type": "code",
   "execution_count": 54,
   "metadata": {},
   "outputs": [],
   "source": [
    "rng = np.random.default_rng()"
   ]
  },
  {
   "cell_type": "code",
   "execution_count": 55,
   "metadata": {},
   "outputs": [
    {
     "data": {
      "text/plain": [
       "array([3, 7, 5, 4, 3, 4, 3, 7, 4, 0, 0, 4])"
      ]
     },
     "execution_count": 55,
     "metadata": {},
     "output_type": "execute_result"
    }
   ],
   "source": [
    "# array with max value of 8, and 10 values\n",
    "\n",
    "rng.choice(8, 12)"
   ]
  },
  {
   "cell_type": "code",
   "execution_count": 56,
   "metadata": {},
   "outputs": [
    {
     "data": {
      "text/plain": [
       "array([0, 6, 6, 6, 0, 7, 0, 6, 6, 6])"
      ]
     },
     "execution_count": 56,
     "metadata": {},
     "output_type": "execute_result"
    }
   ],
   "source": [
    "# Array where last two values have greater probabilities of being chosen:\n",
    " # p must add to 1:\n",
    "    \n",
    "rng.choice(8, 10, p=[0.1, 0, 0,0,0,0,0.3, 0.6])"
   ]
  },
  {
   "cell_type": "markdown",
   "metadata": {},
   "source": [
    "***\n",
    "***"
   ]
  },
  {
   "cell_type": "markdown",
   "metadata": {},
   "source": [
    "### Permutations:\n",
    "With these functions we can change the order of values in an array, in two ways."
   ]
  },
  {
   "cell_type": "markdown",
   "metadata": {},
   "source": [
    "***"
   ]
  },
  {
   "cell_type": "markdown",
   "metadata": {},
   "source": [
    "#### Suffle:\n",
    "Shuffles the elements without keeping the original order.\n",
    "The advantage is that shuffling is a simpler coputational \n",
    "task than generating a range every time we need it:\n"
   ]
  },
  {
   "cell_type": "code",
   "execution_count": 57,
   "metadata": {},
   "outputs": [
    {
     "data": {
      "text/plain": [
       "array([7, 4, 2, 1, 6, 5, 3, 8, 0, 9])"
      ]
     },
     "execution_count": 57,
     "metadata": {},
     "output_type": "execute_result"
    }
   ],
   "source": [
    "# We can see the difference in the result by calling it twice. \n",
    "\n",
    "arr = np.arange(10)\n",
    "rng.shuffle(arr)\n",
    "arr"
   ]
  },
  {
   "cell_type": "code",
   "execution_count": 58,
   "metadata": {},
   "outputs": [
    {
     "data": {
      "text/plain": [
       "array([5, 1, 6, 8, 3, 0, 2, 9, 4, 7])"
      ]
     },
     "execution_count": 58,
     "metadata": {},
     "output_type": "execute_result"
    }
   ],
   "source": [
    "arr = np.arange(10)\n",
    "rng.shuffle(arr)\n",
    "arr"
   ]
  },
  {
   "cell_type": "code",
   "execution_count": 59,
   "metadata": {},
   "outputs": [
    {
     "data": {
      "text/plain": [
       "array([[ 9, 10, 11],\n",
       "       [ 0,  1,  2],\n",
       "       [ 3,  4,  5],\n",
       "       [ 6,  7,  8]])"
      ]
     },
     "execution_count": 59,
     "metadata": {},
     "output_type": "execute_result"
    }
   ],
   "source": [
    "#We can also divide it in sub arrays:\n",
    " # The reshape must match the length of the array\n",
    "    \n",
    "arr = np.arange(12).reshape((4, 3))\n",
    "rng.shuffle(arr)\n",
    "arr"
   ]
  },
  {
   "cell_type": "markdown",
   "metadata": {},
   "source": [
    "***"
   ]
  },
  {
   "cell_type": "markdown",
   "metadata": {},
   "source": [
    "#### Permutations:\n",
    "At a first look it's hard to tell the difference between permutation and shuffle. But the differences are(7):\n",
    "1. If passed an array, Permutations will return a shuffled copy of the array, whereas Shuffle will return an in-place shuffle of the array.\n",
    "2. If passed an integer iit will return a shuffled range."
   ]
  },
  {
   "cell_type": "code",
   "execution_count": 60,
   "metadata": {},
   "outputs": [
    {
     "name": "stdout",
     "output_type": "stream",
     "text": [
      "[[ 9 10 11]\n",
      " [ 0  1  2]\n",
      " [ 3  4  5]\n",
      " [ 6  7  8]]\n"
     ]
    }
   ],
   "source": [
    "# We'll use the same array to compare both functions:\n",
    "# Permutations:\n",
    " # We can see that the original array has not been changed. \n",
    "    # So we could store the permutation in another variable and work on it\n",
    "    # without risking loosign the original variable\n",
    "    \n",
    "array = np.array([1, 2, 3, 4, 5])\n",
    "rng.permutation(array)\n",
    "print(arr)"
   ]
  },
  {
   "cell_type": "code",
   "execution_count": 61,
   "metadata": {},
   "outputs": [
    {
     "name": "stdout",
     "output_type": "stream",
     "text": [
      "[4 2 3 1 5]\n"
     ]
    }
   ],
   "source": [
    "# Shuffle:\n",
    " # The original variable has been modified and lost in the process.\n",
    "    \n",
    "array = np.array([1, 2, 3, 4, 5])\n",
    "rng.shuffle(array)\n",
    "print(array)"
   ]
  },
  {
   "cell_type": "markdown",
   "metadata": {},
   "source": [
    "***"
   ]
  },
  {
   "cell_type": "markdown",
   "metadata": {},
   "source": [
    "#### Permuted:\n",
    "a combination of Shuffle and permutation. It allows to slice the original array into different sub arrays (like Shuffle) but the original array stays unchanged (like Permutations). "
   ]
  },
  {
   "cell_type": "code",
   "execution_count": 62,
   "metadata": {},
   "outputs": [
    {
     "data": {
      "text/plain": [
       "array([[ 0,  1,  2,  3,  4,  5,  6,  7],\n",
       "       [ 8,  9, 10, 11, 12, 13, 14, 15],\n",
       "       [16, 17, 18, 19, 20, 21, 22, 23]])"
      ]
     },
     "execution_count": 62,
     "metadata": {},
     "output_type": "execute_result"
    }
   ],
   "source": [
    "# Dividing an array into 3 arrays of 8 values.\n",
    " # The total number of items must match the length of the original array\n",
    "    \n",
    "x = np.arange(24).reshape(3, 8)\n",
    "x"
   ]
  },
  {
   "cell_type": "code",
   "execution_count": 63,
   "metadata": {},
   "outputs": [
    {
     "data": {
      "text/plain": [
       "array([[ 0,  1,  2,  3,  4,  5,  6,  7],\n",
       "       [ 8,  9, 10, 11, 12, 13, 14, 15],\n",
       "       [16, 17, 18, 19, 20, 21, 22, 23]])"
      ]
     },
     "execution_count": 63,
     "metadata": {},
     "output_type": "execute_result"
    }
   ],
   "source": [
    "# With the permutation function we can operate on the arrays,\n",
    "# but the values originally contained in each one of them stays the same.\n",
    "# We can select whether to suffle the rows or columns by changing the value of x(0,1).\n",
    " \n",
    "# Columns:\n",
    "rng.permutation(x, axis=0)"
   ]
  },
  {
   "cell_type": "code",
   "execution_count": 64,
   "metadata": {},
   "outputs": [
    {
     "data": {
      "text/plain": [
       "array([[ 4,  2,  0,  5,  3,  1,  7,  6],\n",
       "       [12, 10,  8, 13, 11,  9, 15, 14],\n",
       "       [20, 18, 16, 21, 19, 17, 23, 22]])"
      ]
     },
     "execution_count": 64,
     "metadata": {},
     "output_type": "execute_result"
    }
   ],
   "source": [
    "# rows:\n",
    "rng.permutation(x, axis=1)"
   ]
  },
  {
   "cell_type": "markdown",
   "metadata": {},
   "source": [
    "***\n",
    "***"
   ]
  },
  {
   "cell_type": "markdown",
   "metadata": {},
   "source": [
    "### Distributions:\n",
    "In this setion we will analyse different distribution functions. With these functions we can simulate data to study populations, make solid assumptions of of a variable to bridge  to another variable. We can also plot our or dataset and use the function that best suits the nature of out observations.\n"
   ]
  },
  {
   "cell_type": "markdown",
   "metadata": {},
   "source": [
    "***"
   ]
  },
  {
   "cell_type": "markdown",
   "metadata": {},
   "source": [
    "#### Normal:\n",
    "A normal distribution is described by its mean and standard deviation, describing a bell curve, where(8):\n",
    "1. 68% of measurements are between -1 & 1 standard deviation from the mean.\n",
    "2. 95 % of measurements are between -2 & 2 standard deviation from the mean.\n",
    "3. 99% of measurements are between -3 & 3 standard deviation from the mean."
   ]
  },
  {
   "attachments": {
    "normal_distribution.svg": {
     "image/svg+xml": [
      "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"
     ]
    }
   },
   "cell_type": "markdown",
   "metadata": {},
   "source": [
    "![normal_distribution.svg](attachment:normal_distribution.svg)"
   ]
  },
  {
   "cell_type": "markdown",
   "metadata": {},
   "source": [
    "The normal distribution reflects the way continuous variables behave (provided we have the right sample for a given population). This means that if we make enough mesurements of a continuous variable in a given population that variable will show the behaviour of a normal distribution."
   ]
  },
  {
   "cell_type": "markdown",
   "metadata": {},
   "source": [
    "A normal distribution will allow us to make assumptions and predictions of the sample's population based on the expected proportion of measurements for each value given a range of probability (or risk). To understand this we need to check the z distribution or standard normal distribution.\n"
   ]
  },
  {
   "cell_type": "markdown",
   "metadata": {},
   "source": [
    "The Z Distribution is a representation of standard mean deviations and its proportion of measurements. With it we can determine a value, range of values, or number of cases with a given value by translating that value into standard deviation and checking the proportion associated with that distance from the mean. For that we can check the z distribution table.(9)"
   ]
  },
  {
   "cell_type": "markdown",
   "metadata": {},
   "source": [
    "On the y axis we can see the z value which is obtained by substraction the mean from the value of interest and dividing that result by the standard deviation (which is bassically expresing the score difference in standard deviation values). On the x axis we have a probability assigned to each proportion. This allows us to calculate a value given a standard deviation or z score, or a number of observations given an observation"
   ]
  },
  {
   "cell_type": "markdown",
   "metadata": {},
   "source": [
    "![z-dtable.png](attachment:z-dtable.png)"
   ]
  },
  {
   "cell_type": "markdown",
   "metadata": {},
   "source": [
    "It will also allow us to make predictions of a variable score given an observation in a different variable with a linear regression relationship.\n",
    "\n",
    "Example: let's assume a linear regression value of .99 between weight and diabets, meaning higher weight is highly positively correlated with having diabetes. And let's assume both variables behave normally.\n",
    "\n",
    "If we have a value in weight positioned in the percentile 75, with the z table we can calculate a person's score in the diabetes variable without having to make a measurement (always within a tolerange range)."
   ]
  },
  {
   "cell_type": "markdown",
   "metadata": {},
   "source": [
    "In Numpy we have have normal distributions if we provide the mean and standard deviation:\n"
   ]
  },
  {
   "cell_type": "code",
   "execution_count": 65,
   "metadata": {},
   "outputs": [],
   "source": [
    "# Normal distribution of mean=10, std=2, size=10000\n",
    "mean = 10\n",
    "std = 2\n",
    "sample= mean + std * rng.normal(size=10000)\n",
    "# sample (Uncomment to display)"
   ]
  },
  {
   "cell_type": "code",
   "execution_count": 66,
   "metadata": {},
   "outputs": [
    {
     "data": {
      "image/png": "[encoded data removed]",
      "text/plain": [
       "<Figure size 432x288 with 1 Axes>"
      ]
     },
     "metadata": {
      "needs_background": "light"
     },
     "output_type": "display_data"
    }
   ],
   "source": [
    "plt.hist(sample, bins=40)\n",
    "plt.xlabel(\"observations\")\n",
    "plt.ylabel(\"Frequency\")\n",
    "plt.show()"
   ]
  },
  {
   "cell_type": "code",
   "execution_count": 67,
   "metadata": {},
   "outputs": [
    {
     "name": "stdout",
     "output_type": "stream",
     "text": [
      "The mean of sample is:  9.994791887917755\n"
     ]
    }
   ],
   "source": [
    "# We can calculate different statistics on that sample, such as mean and standard deviation:\n",
    "\n",
    "mean= np.mean(sample)\n",
    "print(\"The mean of sample is: \", mean)"
   ]
  },
  {
   "cell_type": "code",
   "execution_count": 68,
   "metadata": {},
   "outputs": [
    {
     "name": "stdout",
     "output_type": "stream",
     "text": [
      "the standard deviation of sample:  2.0156308676077943\n"
     ]
    }
   ],
   "source": [
    "std= np.std(sample)\n",
    "print(\"the standard deviation of sample: \", std)"
   ]
  },
  {
   "cell_type": "markdown",
   "metadata": {},
   "source": [
    "***"
   ]
  },
  {
   "cell_type": "markdown",
   "metadata": {},
   "source": [
    "#### Geometrical distribution:\n",
    "\n",
    "Is the distribution of the number of trials needed to get a success where each trial is independent and has a exclusive outcome outlined as failure or success.\n",
    "\n",
    "The geometrical distribution has only one value, p, the probability of succes. The mean and variance and functions of p:\n",
    "\n",
    "mean = 1/p\n",
    "\n",
    "variance = 1-P/P**2"
   ]
  },
  {
   "cell_type": "code",
   "execution_count": 69,
   "metadata": {},
   "outputs": [
    {
     "data": {
      "image/png": "[encoded data removed]",
      "text/plain": [
       "<Figure size 432x288 with 1 Axes>"
      ]
     },
     "metadata": {
      "needs_background": "light"
     },
     "output_type": "display_data"
    }
   ],
   "source": [
    "x = np.random.geometric(0.5, size=10000)\n",
    "bin = np.arange(0,20,1)\n",
    "\n",
    "plt.hist(x, bins=bin) \n",
    "plt.title(\"Geometric Distribution\") \n",
    "plt.show()"
   ]
  },
  {
   "cell_type": "markdown",
   "metadata": {},
   "source": [
    "We can see that the probability of succes in the first trial is practically half of the size, and that's because the value of p=0.5. We can also see that it rapidily decreases, and that's because the probability of success in the second trial includes a failure in trial 1, which is .5*.5=.25, which for a n=10000, is equal to 2500, which is the value we can see in the second bin."
   ]
  },
  {
   "cell_type": "markdown",
   "metadata": {},
   "source": [
    "***"
   ]
  },
  {
   "cell_type": "markdown",
   "metadata": {},
   "source": [
    "#### Poisson distribution:\n",
    "\n",
    "It's a discrete distribution, and describes the number of events in a given time interval. It assumes independent trials of randomly distributed observations (10). An example could be number of people going to a shop between certain hours. It requires only one parameter (Lambda), which is the expected number fo events.\n",
    "\n",
    "Assumptions:\n",
    "1. Events are independent.\n",
    "2. The rate of occurrence stays constant.\n",
    "\n",
    "Also, as lambda becomes larger and p smaller the poisson distribution behaves like a geometrical distribution (or binomial). And both distributions will behave like normal as datapoints grow, and that's because the mean and variance are both the value of lambda, meaning that as it grows more observations can be possible at each side of the mean with a broader variance(as we can see below).\n",
    "\n",
    "THEN WHY USE THE POISSON DISTRIBUTION?\n",
    "\n",
    "First of all, if a variable is best suited for a binomial distribution then we should perhaps use that formula. But we have a few situations where a poisson distribution can be handy:\n",
    "\n",
    "1. When factorials and exponentials in a binomial calculation become larger and difficult to calculate as n grows.\n",
    "2. When n and p are unknown but we have the mean number of observations. That mean can be used as the mean of a poisson calculation."
   ]
  },
  {
   "cell_type": "code",
   "execution_count": 70,
   "metadata": {},
   "outputs": [
    {
     "data": {
      "image/png": "[encoded data removed]",
      "text/plain": [
       "<Figure size 432x288 with 1 Axes>"
      ]
     },
     "metadata": {
      "needs_background": "light"
     },
     "output_type": "display_data"
    }
   ],
   "source": [
    "# Different poisson charts for values of lamba. Poisson and binomial distributions \n",
    " # will behave like normal distribution as n grows. \n",
    "\n",
    "import seaborn as sns\n",
    "\n",
    "sns.distplot(rng.poisson(lam=10, size=1000), hist=False, label='5')\n",
    "sns.distplot(rng.poisson(lam=30, size=1000), hist=False, label='15')\n",
    "sns.distplot(rng.poisson(lam=100, size=1000), hist=False, label='30') \n",
    "\n",
    "plt.title(\"Poisson Distribution\") \n",
    "plt.show()"
   ]
  },
  {
   "cell_type": "markdown",
   "metadata": {},
   "source": [
    "***"
   ]
  },
  {
   "cell_type": "markdown",
   "metadata": {},
   "source": [
    "#### Exponential distribution:\n",
    "It's related to the Poisson distribution because it represents the time between events in a Poisson process. That is, while the Poisson might be registering the amount of people going to a store in an hour, the exponential will register the number of hours between people going to the store (time between events)(11).\n",
    "\n",
    "As with the Poisson:\n",
    "1. Events must be independent\n",
    "2. The rate of uccurrence is constant.\n",
    "3. We need Lambda. But in contrast, the mean here will be mean = Unit of measure/lambda.\n",
    "\n",
    "We can see below how the probability decreases rapidly as the mean increases, which continuing the example of time between people going to a store would be hours between people. The larger the time requested, the lower the probability."
   ]
  },
  {
   "cell_type": "code",
   "execution_count": 71,
   "metadata": {},
   "outputs": [
    {
     "data": {
      "image/png": "[encoded data removed]",
      "text/plain": [
       "<Figure size 432x288 with 1 Axes>"
      ]
     },
     "metadata": {
      "needs_background": "light"
     },
     "output_type": "display_data"
    }
   ],
   "source": [
    "size = 10000\n",
    "\n",
    "#drawing 10000 sample \n",
    "\n",
    "a = rng.exponential(1, size)\n",
    "b = rng.exponential(2, size)\n",
    "c = rng.exponential(3, size)\n",
    "d = rng.exponential(4, size)\n",
    "\n",
    "bin = np.arange(0,10,0.1)\n",
    "\n",
    "plt.hist(a, bins=bin, edgecolor='blue') \n",
    "plt.hist(b, bins=bin, edgecolor='red')\n",
    "plt.hist(c, bins=bin, edgecolor='yellow')\n",
    "plt.hist(d, bins=bin, edgecolor='white')\n",
    "\n",
    "plt.title(\"Exponential Distribution\") \n",
    "plt.show()"
   ]
  },
  {
   "cell_type": "markdown",
   "metadata": {},
   "source": [
    "***"
   ]
  },
  {
   "cell_type": "markdown",
   "metadata": {},
   "source": [
    "#### Hypergeometric Distribution:\n",
    "Like the previous three, this is a discrete observations distribution. It'similar to binomial only without replacement, that is events are not independent, they affect the probability of future events.\n",
    "\n",
    "Normally it takes three parameters:\n",
    "\n",
    "N: population size\n",
    "\n",
    "A: items or observations of interest\n",
    "\n",
    "n: sample size\n",
    "\n",
    "But in numpy we have three parameters: success, failure, sample."
   ]
  },
  {
   "cell_type": "code",
   "execution_count": 72,
   "metadata": {},
   "outputs": [
    {
     "data": {
      "image/png": "[encoded data removed]",
      "text/plain": [
       "<Figure size 432x288 with 1 Axes>"
      ]
     },
     "metadata": {
      "needs_background": "light"
     },
     "output_type": "display_data"
    }
   ],
   "source": [
    "# If we have 13 spades in a 52 cards deck, and we want to take 5 cards, \n",
    "# we can calculate the probability of those cards being spades\n",
    "# We will get 1 spades card in our 5 cards hand in 4000 cases out of 10000.\n",
    "# and the probability decreases as the number of cards increases.\n",
    "\n",
    "spades = rng.hypergeometric(13, 39, 5, 10000)\n",
    "plt.hist(spades, bins=5, edgecolor='blue')\n",
    "plt.show()"
   ]
  },
  {
   "cell_type": "markdown",
   "metadata": {},
   "source": [
    "***\n",
    "***"
   ]
  },
  {
   "cell_type": "markdown",
   "metadata": {},
   "source": [
    "### Seed and pseudorandom numbers generation:"
   ]
  },
  {
   "cell_type": "markdown",
   "metadata": {},
   "source": [
    "#### PCG64 (Permuted congruential generator) outperforming - Mersenne twister:\n",
    "\n",
    "For years numpy had used the Mersenne Twister algorith (MT19937) for its random generated numbers. It is a widely used algorithm in many programming languages and software applications due to its speed, \"randomness\" and security. However, in the latest Numpy version (1.21) they've decided to move away from this algorithm in favour of the Permuted Congruential Generator (PCG-64) by Melissa O'Neill.\n",
    "\n",
    "In numpy's Random sampling page, they state that this changed is based on better statistical properties. \n",
    "\n",
    "But what are these charactetistics?\n",
    "\n",
    "For what we can see in her paper (13), when discussing peformance she writes: \"All the chosen members pass BigCrush at 49 bits or less, providing ample headroom for use at 64 bits. Some members pass at much fewer, most notably PCG-RXS-M-XS, which passes at 36 bits, the minimum permitted by the theoretical model introduced in Section 3.2\". She also explained these results during a Colloquium in Standfor University (14) where she showed these graphics:"
   ]
  },
  {
   "cell_type": "markdown",
   "metadata": {},
   "source": [
    "<p float=\"left\">\n",
    "![pcgperformance.png](attachment:pcgperformance.png)\n",
    "![pcgperformance1.png](attachment:pcgperformance1.png)\n",
    "</p>"
   ]
  },
  {
   "cell_type": "markdown",
   "metadata": {},
   "source": [
    "As we can see, the PCG family outperformned the Mersenne Twister (When the latter didn't fail).\n",
    "We can see more detailed graphic results in the website https://www.pcg-random.org/, but let's check the comparison between both algorithms:\n",
    "                                                                  "
   ]
  },
  {
   "cell_type": "markdown",
   "metadata": {},
   "source": [
    "![pcg-mersenne.png](attachment:pcg-mersenne.png)"
   ]
  },
  {
   "cell_type": "markdown",
   "metadata": {},
   "source": [
    "According to O'Neill the PCG family outperfomed the Mersenne Twister in almost all measurements."
   ]
  },
  {
   "cell_type": "markdown",
   "metadata": {},
   "source": [
    "Despite these results, some people think other factors can be also playing a role in the change of algorithm by Numpy:\n",
    "\n",
    "1. The Mersenne Twister is a 624-element array of 32-bit unsigned integers, and since 64-bit machines are common nowadays, the PCG-64 might be a better suited choice (16).\n",
    "\n",
    "2. The Mersenne Twister \"uses a bit over 2 kb of memory, and the algorithm does data-dependent memory lookups. \n",
    "This has unwanted cache effects that make the algorithm slow and/or pollutes your cache lines to make the rest of your application slower\". (17).\n",
    "\n",
    "There also seems to be some controversy about O'Neill's findings or PCG algorithms performance, specifically:\n",
    "\n",
    "1. The speed when using more than 64-bits decreases rapidly (18).\n",
    "\n",
    "2. The implementation might be avoiding almost all 128-bit operations \"which is a significant improvement, \n",
    "albeit the timings are still far from the sub-ns area of scrambled  linear generators or 64-bit MWC generators of similar size\" (19).\n",
    "\n",
    "3. Danger of self-correlation (20).\n",
    "\n",
    "But in her paper she states that this is a step forward and not the final stage: \n",
    "\n",
    "\"I have not hesitated to point out the predictability of most general purpose generators and the security concerns such predictability poses. I have argued that the PCG family is at least a step in the right direction, but I have been reluctant to make any strong claim about its cryptographic security\"(p.50)"
   ]
  },
  {
   "cell_type": "markdown",
   "metadata": {},
   "source": [
    "***"
   ]
  },
  {
   "cell_type": "markdown",
   "metadata": {},
   "source": [
    "#### How to set a seed:\n",
    "Setting a seed value will allow us to more accurately test our code.\n",
    "\n",
    "To set a seed we need to pass the seed value as an argument to the default function provided by Numpy:\n"
   ]
  },
  {
   "cell_type": "code",
   "execution_count": 73,
   "metadata": {},
   "outputs": [
    {
     "name": "stdout",
     "output_type": "stream",
     "text": [
      "Generator(PCG64)\n",
      "0.9560017096289753\n"
     ]
    }
   ],
   "source": [
    "# Where \"10\" is the seed\n",
    "# And we can see in the code block below that we can get the same pseudo-random value\n",
    "\n",
    "rng = default_rng(10)\n",
    "print(rng)\n",
    "\n",
    "print(rng.random())\n"
   ]
  },
  {
   "cell_type": "code",
   "execution_count": 74,
   "metadata": {},
   "outputs": [
    {
     "name": "stdout",
     "output_type": "stream",
     "text": [
      "0.9560017096289753\n"
     ]
    }
   ],
   "source": [
    "rng = default_rng(10)\n",
    "print(rng.random())\n"
   ]
  },
  {
   "cell_type": "markdown",
   "metadata": {},
   "source": [
    "***\n",
    "***"
   ]
  },
  {
   "cell_type": "markdown",
   "metadata": {},
   "source": [
    "### References:\n",
    "1. https://numpy.org/doc/1.21/user/whatisnumpy.html\n",
    "2. https://www.w3schools.com/python/numpy/numpy_intro.asp\n",
    "3. https://runebook.dev/en/docs/numpy/reference/random/bit_generators/index\n",
    "4. https://www.youtube.com/watch?v=bD05uGo_sVI\n",
    "5. https://stackoverflow.com/questions/8385602/why-are-numpy-arrays-so-fast\n",
    "6. Seed: https://www.sharpsightlabs.com/blog/numpy-random-seed/\n",
    "7. https://stackoverflow.com/questions/15474159/shuffle-vs-permute-numpy\n",
    "8. https://www.w3schools.com/statistics/statistics_normal_distribution.php\n",
    "9. https://www.rapidtables.com/math/probability/normal_distribution.html\n",
    "10. https://medium.com/analytics-vidhya/binomial-and-poisson-distribution-337958a384f3\n",
    "11. https://courses.lumenlearning.com/introstats1/chapter/the-exponential-distribution/\n",
    "12. https://www.freecodecamp.org/news/poisson-distribution-a-formula-to-calculate-probability-distribution/\n",
    "13. https://www.cs.hmc.edu/tr/hmc-cs-2014-0905.pdf\n",
    "14. https://www.youtube.com/watch?v=45Oet5qjlms\n",
    "15. https://www.pcg-random.org/\n",
    "16. https://github.com/numpy/numpy/issues/3137\n",
    "17. https://www.reddit.com/r/compsci/comments/28y2su/why_was_the_mersenne_twister_such_an_improvement/\n",
    "18. https://stats.stackexchange.com/questions/337927/is-pcg-random-number-generator-as-good-as-claimed\n",
    "19. https://pcg.di.unimi.it/pcg.php\n",
    "20. https://github.com/numpy/numpy/issues/16313\n",
    "21. https://www.youtube.com/watch?v=Jo5Nlbqd-Vg"
   ]
  },
  {
   "cell_type": "markdown",
   "metadata": {},
   "source": [
    "***"
   ]
  },
  {
   "cell_type": "markdown",
   "metadata": {},
   "source": [
    "### End."
   ]
  }
 ],
 "metadata": {
  "kernelspec": {
   "display_name": "Python 3",
   "language": "python",
   "name": "python3"
  },
  "language_info": {
   "codemirror_mode": {
    "name": "ipython",
    "version": 3
   },
   "file_extension": ".py",
   "mimetype": "text/x-python",
   "name": "python",
   "nbconvert_exporter": "python",
   "pygments_lexer": "ipython3",
   "version": "3.7.6"
  }
 },
 "nbformat": 4,
 "nbformat_minor": 4
}
