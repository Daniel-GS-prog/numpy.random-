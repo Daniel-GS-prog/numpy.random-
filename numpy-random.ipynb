{
 "cells": [
  {
   "cell_type": "markdown",
   "metadata": {},
   "source": [
    "## Numpy.random"
   ]
  },
  {
   "cell_type": "markdown",
   "metadata": {},
   "source": [
    "***\n"
   ]
  },
  {
   "cell_type": "markdown",
   "metadata": {},
   "source": [
    "### Brief introduction to Numpy:\n",
    "\n",
    "Numpy is a python package built for efficiently perform scientific conputing tasks. One of the most important factors is the time and memmory usage optimisation. Some of the improvements of Numpy -in contrast to standard arrays are:\n",
    "\n",
    "1. Numpy arrays are densely packed arrays of homogeneous type, while python lists are pointers to objects. \n",
    "\n",
    "2. requires that all objects are of the same data type, using the same memory size. In a regular array, objects don't need to be of the same data type, therefore more information about each one of the objects is stored and retrieved in each operation.\n",
    "\n",
    "3. Arrays are stored at one continuous place so they can be access and manipulated nore efficiently (2).\n",
    "\n",
    "4. many Numpy operations are implemented in C, reducing the performance of normal loop operations in Python.(4)\n",
    "\n",
    "We can verify the difference in execution time with the following code:"
   ]
  },
  {
   "cell_type": "code",
   "execution_count": 10,
   "metadata": {},
   "outputs": [
    {
     "name": "stdout",
     "output_type": "stream",
     "text": [
      "Time required by standard array:  227.61797904968262\n",
      "Time required by Numpy:  39.018869400024414\n"
     ]
    }
   ],
   "source": [
    "import numpy as np\n",
    "import time\n",
    "import sys\n",
    "\n",
    "# Size of array:\n",
    "size = 1000000\n",
    "\n",
    "# Two standard python arrays:\n",
    "list1 = range(size)\n",
    "list2 = range(size) \n",
    "\n",
    "# Numpy arrays:\n",
    "a1 = np.arange(size)\n",
    "a2 = np.arange(size)\n",
    "\n",
    "# Test:\n",
    "    # Standard arrays:\n",
    "start = time.time()\n",
    "\n",
    "    # Adding the two standard python arrays:\n",
    "result = [(x+y) for x,y in zip(list1, list2)]\n",
    "\n",
    "    # Returning the time required:\n",
    "print (\"Time required by standard array: \", (time.time() - start)*1000)\n",
    "\n",
    "    # Numpy arrays:\n",
    "start = time.time()\n",
    "\n",
    "    # adding the two Numpy arrays (also notice the simplicity of the code)\n",
    "result = a1 + a2\n",
    "\n",
    "    # Returning the time required:\n",
    "print(\"Time required by Numpy: \", (time.time() - start)*1000)"
   ]
  },
  {
   "cell_type": "markdown",
   "metadata": {},
   "source": [
    "We can see that Numpy took roughly 10% of the time required by the standard array operation.\n",
    "\n",
    "We will focus on the random package in the Numpy library."
   ]
  },
  {
   "cell_type": "markdown",
   "metadata": {},
   "source": [
    "***\n"
   ]
  },
  {
   "cell_type": "markdown",
   "metadata": {},
   "source": [
    "### Overal purpose of Numpy.random:\n",
    "\n",
    "The random package can generate pseudo-random numbers using a BitGenerator (seed) for the sequence and a Generator to produce the values derived from that seed, and from different distributions (3)\n",
    "\n",
    "The advantage of using a generator over lists is that the former doesn't hold all the values in memory (very important with large numbers). Instead, it create the objects but waits for an operation to be called on those objects(4)."
   ]
  },
  {
   "cell_type": "markdown",
   "metadata": {},
   "source": [
    "***\n"
   ]
  },
  {
   "cell_type": "markdown",
   "metadata": {},
   "source": [
    "\n",
    "### Simple random data:\n",
    "<br>\n",
    "Within this functions we can generate:<br>\n",
    "    a. Integers - Integer Function. <br>\n",
    "    b. Float values from an interval - random function. <br>\n",
    "    c. F sample from an array - choice function. <br>\n",
    "    d. Random bytes - bytes function. <br>\n",
    "    <br>\n",
    "    That means we can basically generate any multidimensional structure we want with our data.\n",
    "    "
   ]
  },
  {
   "cell_type": "markdown",
   "metadata": {},
   "source": [
    "#### Integers:"
   ]
  },
  {
   "cell_type": "code",
   "execution_count": 11,
   "metadata": {},
   "outputs": [],
   "source": [
    "import numpy as np\n",
    "from numpy.random import default_rng\n",
    "rng = default_rng()"
   ]
  },
  {
   "cell_type": "code",
   "execution_count": 12,
   "metadata": {},
   "outputs": [
    {
     "data": {
      "text/plain": [
       "0"
      ]
     },
     "execution_count": 12,
     "metadata": {},
     "output_type": "execute_result"
    }
   ],
   "source": [
    "# Random integers:\n",
    "# Providing the highest value (exclusive):\n",
    "a = rng.integers(2)\n",
    "a"
   ]
  },
  {
   "cell_type": "code",
   "execution_count": 13,
   "metadata": {},
   "outputs": [
    {
     "data": {
      "text/plain": [
       "2"
      ]
     },
     "execution_count": 13,
     "metadata": {},
     "output_type": "execute_result"
    }
   ],
   "source": [
    "# Random integers:\n",
    "# Providing both lower and high (exclusive) values:\n",
    "a = rng.integers(2, 5)\n",
    "a"
   ]
  },
  {
   "cell_type": "code",
   "execution_count": 14,
   "metadata": {},
   "outputs": [
    {
     "data": {
      "text/plain": [
       "array([4, 2, 4, 2, 3, 3])"
      ]
     },
     "execution_count": 14,
     "metadata": {},
     "output_type": "execute_result"
    }
   ],
   "source": [
    "# Arrays: \n",
    "# Generate array by adding the size to the code above:\n",
    "a = rng.integers(2, 5, 6)\n",
    "a"
   ]
  },
  {
   "cell_type": "code",
   "execution_count": 15,
   "metadata": {},
   "outputs": [
    {
     "data": {
      "text/plain": [
       "array([4, 2, 4, 2, 2, 3])"
      ]
     },
     "execution_count": 15,
     "metadata": {},
     "output_type": "execute_result"
    }
   ],
   "source": [
    "# Same as above only specifying the size:\n",
    "b = rng.integers(2, 5, size=6)\n",
    "b"
   ]
  },
  {
   "cell_type": "code",
   "execution_count": 16,
   "metadata": {},
   "outputs": [
    {
     "data": {
      "text/plain": [
       "array([2, 4, 5, 3, 4, 5])"
      ]
     },
     "execution_count": 16,
     "metadata": {},
     "output_type": "execute_result"
    }
   ],
   "source": [
    "# Including high value:\n",
    "a = rng.integers(2, 5,size=6, endpoint=True)\n",
    "a"
   ]
  },
  {
   "cell_type": "code",
   "execution_count": 17,
   "metadata": {},
   "outputs": [
    {
     "data": {
      "text/plain": [
       "array([[4, 2],\n",
       "       [5, 4],\n",
       "       [3, 5],\n",
       "       [5, 5],\n",
       "       [3, 3],\n",
       "       [5, 3]])"
      ]
     },
     "execution_count": 17,
     "metadata": {},
     "output_type": "execute_result"
    }
   ],
   "source": [
    "# Generatin 2 dimensional arrays:\n",
    "#   Where the first value in \"size\" is the number of arrays\n",
    "#   and the second value is the length of the array.\n",
    "a = rng.integers(2, 5,size=(6,2), endpoint=True)\n",
    "a"
   ]
  },
  {
   "cell_type": "code",
   "execution_count": 18,
   "metadata": {},
   "outputs": [
    {
     "data": {
      "text/plain": [
       "array([[4, 3],\n",
       "       [3, 5],\n",
       "       [3, 4],\n",
       "       [3, 5],\n",
       "       [5, 3]])"
      ]
     },
     "execution_count": 18,
     "metadata": {},
     "output_type": "execute_result"
    }
   ],
   "source": [
    "# Plotting two dimensional arrays\n",
    "\n",
    "import matplotlib.pyplot as plt\n",
    "\n",
    "rng = np.random.default_rng()\n",
    "a = rng.integers(2, 5,size=(5,2), endpoint=True)\n",
    "a"
   ]
  },
  {
   "cell_type": "code",
   "execution_count": 19,
   "metadata": {},
   "outputs": [
    {
     "data": {
      "image/png": "[encoded data removed]",
      "text/plain": [
       "<Figure size 432x288 with 1 Axes>"
      ]
     },
     "metadata": {
      "needs_background": "light"
     },
     "output_type": "display_data"
    }
   ],
   "source": [
    "plt.plot(a)\n",
    "plt.show()\n",
    "# Where values at inex[0] are reprenseted in blue line:"
   ]
  },
  {
   "cell_type": "code",
   "execution_count": 20,
   "metadata": {},
   "outputs": [
    {
     "data": {
      "text/plain": [
       "array([84, 54, 60, 41, 93, 24, 96, 64, 19, 38, 64,  7, 39, 44, 28, 91, 35,\n",
       "       59, 73, 19, 65,  5, 45, 66, 93, 23, 93,  7, 84, 40,  5, 39, 69, 64,\n",
       "       34, 29, 29, 25, 37, 47, 37, 16, 25, 55, 44, 66, 21, 32, 21, 16, 81,\n",
       "       71, 10, 58, 97, 39, 34, 47, 92, 86, 83, 88, 79, 77, 99, 83, 93, 38,\n",
       "       67, 28, 47, 24, 23, 39, 25, 14, 93, 27, 44, 39, 45, 45, 72, 44, 43,\n",
       "       29, 14, 17, 27, 65, 89, 87, 11, 52, 39, 60, 17, 80, 20, 92])"
      ]
     },
     "execution_count": 20,
     "metadata": {},
     "output_type": "execute_result"
    }
   ],
   "source": [
    "# We can also mae a model of a varible by just adding a math operation to a variable\n",
    "#  to generate another variable.\n",
    "\n",
    "c = rng.integers(1, 100, size=100)\n",
    "d = c*2\n",
    "c\n",
    "# Just by adding c*2, now d is another array which varies with c.\n"
   ]
  },
  {
   "cell_type": "code",
   "execution_count": 21,
   "metadata": {},
   "outputs": [
    {
     "data": {
      "text/plain": [
       "array([592704, 157464, 216000,  68921, 804357,  13824, 884736, 262144,\n",
       "         6859,  54872, 262144,    343,  59319,  85184,  21952, 753571,\n",
       "        42875, 205379, 389017,   6859, 274625,    125,  91125, 287496,\n",
       "       804357,  12167, 804357,    343, 592704,  64000,    125,  59319,\n",
       "       328509, 262144,  39304,  24389,  24389,  15625,  50653, 103823,\n",
       "        50653,   4096,  15625, 166375,  85184, 287496,   9261,  32768,\n",
       "         9261,   4096, 531441, 357911,   1000, 195112, 912673,  59319,\n",
       "        39304, 103823, 778688, 636056, 571787, 681472, 493039, 456533,\n",
       "       970299, 571787, 804357,  54872, 300763,  21952, 103823,  13824,\n",
       "        12167,  59319,  15625,   2744, 804357,  19683,  85184,  59319,\n",
       "        91125,  91125, 373248,  85184,  79507,  24389,   2744,   4913,\n",
       "        19683, 274625, 704969, 658503,   1331, 140608,  59319, 216000,\n",
       "         4913, 512000,   8000, 778688])"
      ]
     },
     "execution_count": 21,
     "metadata": {},
     "output_type": "execute_result"
    }
   ],
   "source": [
    "d = c**3\n",
    "d"
   ]
  },
  {
   "cell_type": "code",
   "execution_count": 22,
   "metadata": {},
   "outputs": [
    {
     "data": {
      "image/png": "[encoded data removed]",
      "text/plain": [
       "<Figure size 432x288 with 1 Axes>"
      ]
     },
     "metadata": {
      "needs_background": "light"
     },
     "output_type": "display_data"
    }
   ],
   "source": [
    "# And we can plot them:\n",
    "plt.plot(c, d)\n",
    "plt.show()"
   ]
  },
  {
   "cell_type": "markdown",
   "metadata": {},
   "source": [
    "#### Float number generation:\n",
    "If we want to generate float numbers instead of integers, we can use the random() where:\n",
    "<br>\n",
    "1. The first value is the size of the array (How many values if only one array, or arrays for given values)\n",
    "<br>\n",
    "2. The length of the arrays.\n",
    "<br>\n",
    "3. How many arrays of length (2)"
   ]
  },
  {
   "cell_type": "code",
   "execution_count": 23,
   "metadata": {},
   "outputs": [
    {
     "data": {
      "text/plain": [
       "array([0.31434467, 0.90385607, 0.10549694, 0.88399981, 0.81944601])"
      ]
     },
     "execution_count": 23,
     "metadata": {},
     "output_type": "execute_result"
    }
   ],
   "source": [
    "# Five random floats:\n",
    "rng = np.random.default_rng()\n",
    "rng.random((5))\n"
   ]
  },
  {
   "cell_type": "code",
   "execution_count": 24,
   "metadata": {},
   "outputs": [
    {
     "data": {
      "text/plain": [
       "array([[0.30535204, 0.04274589],\n",
       "       [0.27536189, 0.26773251],\n",
       "       [0.23056251, 0.50064106],\n",
       "       [0.40838453, 0.78271501],\n",
       "       [0.2111259 , 0.01202985]])"
      ]
     },
     "execution_count": 24,
     "metadata": {},
     "output_type": "execute_result"
    }
   ],
   "source": [
    "# Five random arrays of length 2\n",
    "rng.random((5,2))"
   ]
  },
  {
   "cell_type": "code",
   "execution_count": 25,
   "metadata": {},
   "outputs": [
    {
     "data": {
      "text/plain": [
       "array([[[0.38982268, 0.36549129, 0.61639453],\n",
       "        [0.76339587, 0.59853845, 0.12526764]],\n",
       "\n",
       "       [[0.13465415, 0.12535437, 0.25092592],\n",
       "        [0.98768837, 0.56251155, 0.9543688 ]],\n",
       "\n",
       "       [[0.93544428, 0.42549672, 0.86111683],\n",
       "        [0.43190802, 0.50345173, 0.30663873]],\n",
       "\n",
       "       [[0.1324633 , 0.62287911, 0.38315683],\n",
       "        [0.10677866, 0.57794077, 0.52562496]],\n",
       "\n",
       "       [[0.36905516, 0.42659476, 0.3295789 ],\n",
       "        [0.17970263, 0.67771253, 0.12369173]]])"
      ]
     },
     "execution_count": 25,
     "metadata": {},
     "output_type": "execute_result"
    }
   ],
   "source": [
    "# Five random arrays of 2 columns with 3 values\n",
    "c = rng.random((5,2,3))\n",
    "c"
   ]
  },
  {
   "cell_type": "markdown",
   "metadata": {},
   "source": [
    "#### Choice generation:\n",
    "We can generate an array from another array, and we can manipulate the probability of each element\n"
   ]
  },
  {
   "cell_type": "code",
   "execution_count": 26,
   "metadata": {},
   "outputs": [],
   "source": [
    "rng = np.random.default_rng()"
   ]
  },
  {
   "cell_type": "code",
   "execution_count": 27,
   "metadata": {},
   "outputs": [
    {
     "data": {
      "text/plain": [
       "array([1, 7, 3, 4, 1, 1, 6, 5, 0, 4, 3, 2])"
      ]
     },
     "execution_count": 27,
     "metadata": {},
     "output_type": "execute_result"
    }
   ],
   "source": [
    "# array with max value of 8, and 10 values\n",
    "rng.choice(8, 12)"
   ]
  },
  {
   "cell_type": "code",
   "execution_count": 28,
   "metadata": {},
   "outputs": [
    {
     "data": {
      "text/plain": [
       "array([7, 6, 7, 7, 6, 7, 7, 6, 0, 7])"
      ]
     },
     "execution_count": 28,
     "metadata": {},
     "output_type": "execute_result"
    }
   ],
   "source": [
    "# Array where last two values have greater probabilities of being chosen:\n",
    "rng.choice(8, 10, p=[0.1, 0, 0,0,0,0,0.3, 0.6])\n"
   ]
  },
  {
   "cell_type": "code",
   "execution_count": null,
   "metadata": {},
   "outputs": [],
   "source": []
  },
  {
   "cell_type": "code",
   "execution_count": null,
   "metadata": {},
   "outputs": [],
   "source": []
  },
  {
   "cell_type": "markdown",
   "metadata": {},
   "source": [
    "***\n"
   ]
  },
  {
   "cell_type": "markdown",
   "metadata": {},
   "source": [
    "### Permutations:"
   ]
  },
  {
   "cell_type": "markdown",
   "metadata": {},
   "source": [
    "***\n"
   ]
  },
  {
   "cell_type": "markdown",
   "metadata": {},
   "source": [
    "### Distributions:"
   ]
  },
  {
   "cell_type": "markdown",
   "metadata": {},
   "source": [
    "***"
   ]
  },
  {
   "cell_type": "markdown",
   "metadata": {},
   "source": [
    "### Seed and pseudorandom numbers generation:"
   ]
  },
  {
   "cell_type": "markdown",
   "metadata": {},
   "source": [
    "***"
   ]
  },
  {
   "cell_type": "markdown",
   "metadata": {},
   "source": [
    "### References:\n",
    "1. https://numpy.org/doc/1.21/user/whatisnumpy.html\n",
    "2. https://www.w3schools.com/python/numpy/numpy_intro.asp\n",
    "3. https://runebook.dev/en/docs/numpy/reference/random/bit_generators/index\n",
    "4. https://www.youtube.com/watch?v=bD05uGo_sVI\n",
    "5. https://stackoverflow.com/questions/8385602/why-are-numpy-arrays-so-fast\n",
    "6. Seed: https://www.sharpsightlabs.com/blog/numpy-random-seed/"
   ]
  },
  {
   "cell_type": "markdown",
   "metadata": {},
   "source": [
    "***"
   ]
  },
  {
   "cell_type": "markdown",
   "metadata": {},
   "source": [
    "### End."
   ]
  },
  {
   "cell_type": "code",
   "execution_count": null,
   "metadata": {},
   "outputs": [],
   "source": []
  }
 ],
 "metadata": {
  "kernelspec": {
   "display_name": "Python 3",
   "language": "python",
   "name": "python3"
  },
  "language_info": {
   "codemirror_mode": {
    "name": "ipython",
    "version": 3
   },
   "file_extension": ".py",
   "mimetype": "text/x-python",
   "name": "python",
   "nbconvert_exporter": "python",
   "pygments_lexer": "ipython3",
   "version": "3.7.6"
  }
 },
 "nbformat": 4,
 "nbformat_minor": 4
}
