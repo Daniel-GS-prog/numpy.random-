{
 "cells": [
  {
   "cell_type": "markdown",
   "metadata": {},
   "source": [
    "## Numpy.random"
   ]
  },
  {
   "cell_type": "markdown",
   "metadata": {},
   "source": [
    "***\n",
    "***"
   ]
  },
  {
   "cell_type": "markdown",
   "metadata": {},
   "source": [
    "### Brief introduction to Numpy:\n",
    "\n",
    "Numpy is a python package built for efficiently perform scientific conputing tasks. One of the most important factors is the time and memory usage optimisation. Some of the improvements of Numpy -in contrast to standard arrays are:\n",
    "\n",
    "1. Numpy arrays are densely packed arrays of homogeneous type, while python lists are pointers to objects. \n",
    "\n",
    "2. requires that all objects are of the same data type, using the same memory size. In a regular array, objects don't need to be of the same data type, therefore more information about each one of the objects is stored and retrieved in each operation.\n",
    "\n",
    "3. Arrays are stored at one continuous place so they can be access and manipulated nore efficiently (2).\n",
    "\n",
    "4. Many Numpy operations are implemented in C, reducing the performance of normal loop operations in Python.(4)\n",
    "\n",
    "We can verify the difference in execution time with the following code:"
   ]
  },
  {
   "cell_type": "code",
   "execution_count": 61,
   "metadata": {},
   "outputs": [
    {
     "name": "stdout",
     "output_type": "stream",
     "text": [
      "Time required by standard array:  268.902063369751\n",
      "Time required by Numpy:  43.35308074951172\n"
     ]
    }
   ],
   "source": [
    "import numpy as np\n",
    "import time\n",
    "import sys\n",
    "\n",
    "\n",
    "# Size of array:\n",
    "size = 1000000\n",
    "\n",
    "# Two standard python arrays:\n",
    "list1 = range(size)\n",
    "list2 = range(size) \n",
    "\n",
    "# Numpy arrays:\n",
    "a1 = np.arange(size)\n",
    "a2 = np.arange(size)\n",
    "\n",
    "# Test:\n",
    "    # Standard arrays:\n",
    "start = time.time()\n",
    "\n",
    "    # Adding the two standard python arrays:\n",
    "result = [(x+y) for x,y in zip(list1, list2)]\n",
    "\n",
    "    # Returning the time required:\n",
    "print (\"Time required by standard array: \", (time.time() - start)*1000)\n",
    "\n",
    "    # Numpy arrays:\n",
    "start = time.time()\n",
    "\n",
    "    # adding the two Numpy arrays (also notice the simplicity of the code)\n",
    "result = a1 + a2\n",
    "\n",
    "    # Returning the time required:\n",
    "print(\"Time required by Numpy: \", (time.time() - start)*1000)"
   ]
  },
  {
   "cell_type": "markdown",
   "metadata": {},
   "source": [
    "We can see that Numpy took roughly 10% of the time required by the standard array operation.\n",
    "\n",
    "We will focus on the random package in the Numpy library."
   ]
  },
  {
   "cell_type": "markdown",
   "metadata": {},
   "source": [
    "***\n",
    "***"
   ]
  },
  {
   "cell_type": "markdown",
   "metadata": {},
   "source": [
    "### Overal purpose of Numpy.random:\n",
    "\n",
    "The random package can generate pseudo-random numbers using a BitGenerator (seed) for the sequence and a Generator to produce the values derived from that seed, and from different distributions (3).\n",
    "\n",
    "The advantage of using a generator over lists is that the former doesn't hold all the values in memory (very important with large numbers). Instead, it create the objects but awaits for an operation to be called on those objects(4)."
   ]
  },
  {
   "cell_type": "markdown",
   "metadata": {},
   "source": [
    "***\n",
    "***"
   ]
  },
  {
   "cell_type": "markdown",
   "metadata": {},
   "source": [
    "\n",
    "### Simple random data:\n",
    "\n",
    "Within this functions we can generate:<br>\n",
    "    a. Integers - Integer Function. <br>\n",
    "    b. Float values from an interval - random function. <br>\n",
    "    c. F sample from an array - choice function. <br>\n",
    "    d. Random bytes - bytes function. <br>\n",
    "    <br>\n",
    "    That means we can basically generate any multidimensional structure we want with our data.\n",
    "    \n",
    "    "
   ]
  },
  {
   "cell_type": "markdown",
   "metadata": {},
   "source": [
    "***"
   ]
  },
  {
   "cell_type": "markdown",
   "metadata": {},
   "source": [
    "#### Integers:"
   ]
  },
  {
   "cell_type": "code",
   "execution_count": 62,
   "metadata": {},
   "outputs": [],
   "source": [
    "import numpy as np\n",
    "from numpy.random import default_rng\n",
    "rng = default_rng()"
   ]
  },
  {
   "cell_type": "code",
   "execution_count": 63,
   "metadata": {},
   "outputs": [
    {
     "data": {
      "text/plain": [
       "0"
      ]
     },
     "execution_count": 63,
     "metadata": {},
     "output_type": "execute_result"
    }
   ],
   "source": [
    "# Random integers:\n",
    "# Providing the highest value (exclusive):\n",
    "a = rng.integers(2)\n",
    "a"
   ]
  },
  {
   "cell_type": "code",
   "execution_count": 64,
   "metadata": {},
   "outputs": [
    {
     "data": {
      "text/plain": [
       "2"
      ]
     },
     "execution_count": 64,
     "metadata": {},
     "output_type": "execute_result"
    }
   ],
   "source": [
    "# Random integers:\n",
    "# Providing both lower and high (exclusive) values:\n",
    "a = rng.integers(2, 5)\n",
    "a"
   ]
  },
  {
   "cell_type": "code",
   "execution_count": 65,
   "metadata": {},
   "outputs": [
    {
     "data": {
      "text/plain": [
       "array([2, 4, 4, 4, 2, 3])"
      ]
     },
     "execution_count": 65,
     "metadata": {},
     "output_type": "execute_result"
    }
   ],
   "source": [
    "# Arrays: \n",
    "# Generate array by adding the size to the code above:\n",
    "a = rng.integers(2, 5, 6)\n",
    "a"
   ]
  },
  {
   "cell_type": "code",
   "execution_count": 66,
   "metadata": {},
   "outputs": [
    {
     "data": {
      "text/plain": [
       "array([3, 2, 4, 3, 4, 2])"
      ]
     },
     "execution_count": 66,
     "metadata": {},
     "output_type": "execute_result"
    }
   ],
   "source": [
    "# Same as above only specifying the size:\n",
    "b = rng.integers(2, 5, size=6)\n",
    "b"
   ]
  },
  {
   "cell_type": "code",
   "execution_count": 67,
   "metadata": {},
   "outputs": [
    {
     "data": {
      "text/plain": [
       "array([2, 4, 2, 3, 2, 5])"
      ]
     },
     "execution_count": 67,
     "metadata": {},
     "output_type": "execute_result"
    }
   ],
   "source": [
    "# Including high value:\n",
    "a = rng.integers(2, 5,size=6, endpoint=True)\n",
    "a"
   ]
  },
  {
   "cell_type": "code",
   "execution_count": 68,
   "metadata": {},
   "outputs": [
    {
     "data": {
      "text/plain": [
       "array([[2, 3],\n",
       "       [4, 5],\n",
       "       [4, 2],\n",
       "       [2, 2],\n",
       "       [2, 2],\n",
       "       [4, 2]])"
      ]
     },
     "execution_count": 68,
     "metadata": {},
     "output_type": "execute_result"
    }
   ],
   "source": [
    "# Generatin 2 dimensional arrays:\n",
    "#   Where the first value in \"size\" is the number of arrays\n",
    "#   and the second value is the length of the array.\n",
    "a = rng.integers(2, 5,size=(6,2), endpoint=True)\n",
    "a"
   ]
  },
  {
   "cell_type": "code",
   "execution_count": 69,
   "metadata": {},
   "outputs": [
    {
     "data": {
      "text/plain": [
       "array([[4, 2],\n",
       "       [5, 5],\n",
       "       [5, 5],\n",
       "       [4, 2],\n",
       "       [5, 4]])"
      ]
     },
     "execution_count": 69,
     "metadata": {},
     "output_type": "execute_result"
    }
   ],
   "source": [
    "# Plotting two dimensional arrays\n",
    "\n",
    "import matplotlib.pyplot as plt\n",
    "\n",
    "rng = np.random.default_rng()\n",
    "a = rng.integers(2, 5,size=(5,2), endpoint=True)\n",
    "a"
   ]
  },
  {
   "cell_type": "code",
   "execution_count": 70,
   "metadata": {},
   "outputs": [
    {
     "data": {
      "image/png": "[encoded data removed]",
      "text/plain": [
       "<Figure size 432x288 with 1 Axes>"
      ]
     },
     "metadata": {
      "needs_background": "light"
     },
     "output_type": "display_data"
    }
   ],
   "source": [
    "plt.plot(a)\n",
    "plt.show()\n",
    "# Where values at inex[0] are reprenseted in blue line:"
   ]
  },
  {
   "cell_type": "code",
   "execution_count": 71,
   "metadata": {},
   "outputs": [
    {
     "data": {
      "text/plain": [
       "array([16, 87, 56, 41, 50, 76, 82, 25, 11, 89, 85, 83, 32, 92, 38, 21, 14,\n",
       "       56,  9, 56, 30, 75,  5, 45, 59, 45, 46, 73, 28, 63, 69, 82, 34, 79,\n",
       "       80, 67, 25, 48, 18, 55, 17, 26, 86, 46, 71, 85, 40, 15, 85, 14,  4,\n",
       "       69, 51, 58, 92, 32,  8, 14, 50, 42, 58, 64, 94, 31, 13, 12, 52, 38,\n",
       "       90, 66, 38, 30, 71, 49, 57, 27, 49, 48,  6, 63, 25, 40, 28, 74, 44,\n",
       "       90, 93,  4, 73, 40, 76, 74, 39, 26, 99, 46,  2, 31, 62, 61])"
      ]
     },
     "execution_count": 71,
     "metadata": {},
     "output_type": "execute_result"
    }
   ],
   "source": [
    "# We can also mae a model of a varible by just adding a math operation to a variable\n",
    "#  to generate another variable.\n",
    "\n",
    "c = rng.integers(1, 100, size=100)\n",
    "d = c*2\n",
    "c\n",
    "# Just by adding c*2, now d is another array which varies with c.\n"
   ]
  },
  {
   "cell_type": "code",
   "execution_count": 72,
   "metadata": {},
   "outputs": [
    {
     "data": {
      "text/plain": [
       "array([  4096, 658503, 175616,  68921, 125000, 438976, 551368,  15625,\n",
       "         1331, 704969, 614125, 571787,  32768, 778688,  54872,   9261,\n",
       "         2744, 175616,    729, 175616,  27000, 421875,    125,  91125,\n",
       "       205379,  91125,  97336, 389017,  21952, 250047, 328509, 551368,\n",
       "        39304, 493039, 512000, 300763,  15625, 110592,   5832, 166375,\n",
       "         4913,  17576, 636056,  97336, 357911, 614125,  64000,   3375,\n",
       "       614125,   2744,     64, 328509, 132651, 195112, 778688,  32768,\n",
       "          512,   2744, 125000,  74088, 195112, 262144, 830584,  29791,\n",
       "         2197,   1728, 140608,  54872, 729000, 287496,  54872,  27000,\n",
       "       357911, 117649, 185193,  19683, 117649, 110592,    216, 250047,\n",
       "        15625,  64000,  21952, 405224,  85184, 729000, 804357,     64,\n",
       "       389017,  64000, 438976, 405224,  59319,  17576, 970299,  97336,\n",
       "            8,  29791, 238328, 226981])"
      ]
     },
     "execution_count": 72,
     "metadata": {},
     "output_type": "execute_result"
    }
   ],
   "source": [
    "d = c**3\n",
    "d"
   ]
  },
  {
   "cell_type": "code",
   "execution_count": 73,
   "metadata": {},
   "outputs": [
    {
     "data": {
      "image/png": "[encoded data removed]",
      "text/plain": [
       "<Figure size 432x288 with 1 Axes>"
      ]
     },
     "metadata": {
      "needs_background": "light"
     },
     "output_type": "display_data"
    }
   ],
   "source": [
    "# And we can plot them:\n",
    "plt.plot(c, d)\n",
    "plt.show()"
   ]
  },
  {
   "cell_type": "markdown",
   "metadata": {},
   "source": [
    "***"
   ]
  },
  {
   "cell_type": "markdown",
   "metadata": {},
   "source": [
    "#### Float number generation:\n",
    "If we want to generate float numbers instead of integers, we can use the random() where:\n",
    "<br>\n",
    "1. The first value is the size of the array (How many values if only one array, or arrays for given values)\n",
    "<br>\n",
    "2. The length of the arrays.\n",
    "<br>\n",
    "3. How many arrays of length (2)"
   ]
  },
  {
   "cell_type": "code",
   "execution_count": 74,
   "metadata": {},
   "outputs": [
    {
     "data": {
      "text/plain": [
       "array([0.88106704, 0.42119302, 0.67100331, 0.63489483, 0.44919404])"
      ]
     },
     "execution_count": 74,
     "metadata": {},
     "output_type": "execute_result"
    }
   ],
   "source": [
    "# Five random floats:\n",
    "\n",
    "rng = np.random.default_rng()\n",
    "rng.random((5))"
   ]
  },
  {
   "cell_type": "code",
   "execution_count": 75,
   "metadata": {},
   "outputs": [
    {
     "data": {
      "text/plain": [
       "array([[0.39742245, 0.4075909 ],\n",
       "       [0.06434538, 0.53408216],\n",
       "       [0.67887883, 0.62670299],\n",
       "       [0.66536606, 0.86200271],\n",
       "       [0.26772641, 0.45400257]])"
      ]
     },
     "execution_count": 75,
     "metadata": {},
     "output_type": "execute_result"
    }
   ],
   "source": [
    "# Five random arrays of length 2\n",
    "\n",
    "rng.random((5,2))"
   ]
  },
  {
   "cell_type": "code",
   "execution_count": 76,
   "metadata": {},
   "outputs": [
    {
     "data": {
      "text/plain": [
       "array([[[0.54831616, 0.14539862, 0.29410615],\n",
       "        [0.85066761, 0.88991682, 0.37267273]],\n",
       "\n",
       "       [[0.97879956, 0.14600169, 0.34562507],\n",
       "        [0.05314511, 0.82390262, 0.96211072]],\n",
       "\n",
       "       [[0.24426691, 0.39434576, 0.63418092],\n",
       "        [0.22761291, 0.76777091, 0.76186888]],\n",
       "\n",
       "       [[0.46574732, 0.5087709 , 0.07019595],\n",
       "        [0.14516224, 0.76198857, 0.01563031]],\n",
       "\n",
       "       [[0.66759727, 0.0561307 , 0.21832714],\n",
       "        [0.24106473, 0.39575351, 0.75053907]]])"
      ]
     },
     "execution_count": 76,
     "metadata": {},
     "output_type": "execute_result"
    }
   ],
   "source": [
    "# Five random arrays of 2 columns with 3 values\n",
    "\n",
    "c = rng.random((5,2,3))\n",
    "c"
   ]
  },
  {
   "cell_type": "markdown",
   "metadata": {},
   "source": [
    "***"
   ]
  },
  {
   "cell_type": "markdown",
   "metadata": {},
   "source": [
    "#### Choice generation:\n",
    "We can generate an array from another array, and we can manipulate the probability of each element\n"
   ]
  },
  {
   "cell_type": "code",
   "execution_count": 77,
   "metadata": {},
   "outputs": [],
   "source": [
    "rng = np.random.default_rng()"
   ]
  },
  {
   "cell_type": "code",
   "execution_count": 78,
   "metadata": {},
   "outputs": [
    {
     "data": {
      "text/plain": [
       "array([7, 5, 3, 0, 6, 6, 1, 2, 6, 4, 1, 6])"
      ]
     },
     "execution_count": 78,
     "metadata": {},
     "output_type": "execute_result"
    }
   ],
   "source": [
    "# array with max value of 8, and 10 values\n",
    "\n",
    "rng.choice(8, 12)"
   ]
  },
  {
   "cell_type": "code",
   "execution_count": 79,
   "metadata": {},
   "outputs": [
    {
     "data": {
      "text/plain": [
       "array([7, 6, 6, 6, 6, 7, 7, 6, 7, 7])"
      ]
     },
     "execution_count": 79,
     "metadata": {},
     "output_type": "execute_result"
    }
   ],
   "source": [
    "# Array where last two values have greater probabilities of being chosen:\n",
    " # p must add to 1:\n",
    "    \n",
    "rng.choice(8, 10, p=[0.1, 0, 0,0,0,0,0.3, 0.6])"
   ]
  },
  {
   "cell_type": "markdown",
   "metadata": {},
   "source": [
    "***\n",
    "***"
   ]
  },
  {
   "cell_type": "markdown",
   "metadata": {},
   "source": [
    "### Permutations:\n",
    "With these functions we can change the order of values in an array, in two ways."
   ]
  },
  {
   "cell_type": "markdown",
   "metadata": {},
   "source": [
    "***"
   ]
  },
  {
   "cell_type": "markdown",
   "metadata": {},
   "source": [
    "#### Suffle:\n",
    "Shuffles the elements without keeping the original order.\n",
    "The advantage is that shuffling is a simpler coputational \n",
    "task than generating a range every time we need it:\n"
   ]
  },
  {
   "cell_type": "code",
   "execution_count": 80,
   "metadata": {},
   "outputs": [
    {
     "data": {
      "text/plain": [
       "array([1, 4, 7, 2, 0, 5, 3, 6, 9, 8])"
      ]
     },
     "execution_count": 80,
     "metadata": {},
     "output_type": "execute_result"
    }
   ],
   "source": [
    "# We can see the difference in the result by calling it twice. \n",
    "\n",
    "arr = np.arange(10)\n",
    "rng.shuffle(arr)\n",
    "arr"
   ]
  },
  {
   "cell_type": "code",
   "execution_count": 81,
   "metadata": {},
   "outputs": [
    {
     "data": {
      "text/plain": [
       "array([2, 1, 8, 5, 0, 3, 4, 9, 6, 7])"
      ]
     },
     "execution_count": 81,
     "metadata": {},
     "output_type": "execute_result"
    }
   ],
   "source": [
    "arr = np.arange(10)\n",
    "rng.shuffle(arr)\n",
    "arr"
   ]
  },
  {
   "cell_type": "code",
   "execution_count": 82,
   "metadata": {},
   "outputs": [
    {
     "data": {
      "text/plain": [
       "array([[ 9, 10, 11],\n",
       "       [ 0,  1,  2],\n",
       "       [ 6,  7,  8],\n",
       "       [ 3,  4,  5]])"
      ]
     },
     "execution_count": 82,
     "metadata": {},
     "output_type": "execute_result"
    }
   ],
   "source": [
    "#We can also divide it in sub arrays:\n",
    " # The reshape must match the length of the array\n",
    "    \n",
    "arr = np.arange(12).reshape((4, 3))\n",
    "rng.shuffle(arr)\n",
    "arr"
   ]
  },
  {
   "cell_type": "markdown",
   "metadata": {},
   "source": [
    "***"
   ]
  },
  {
   "cell_type": "markdown",
   "metadata": {},
   "source": [
    "### Permutations:\n",
    "At a first look it's hard to tell the difference between permutation and shuffle. But the differences are(7):\n",
    "1. If passed an array, Permutations will return a shuffled copy of the array, whereas Shuffle will return an in-place shuffle of the array.\n",
    "2. If passed an integer iit will return a shuffled range."
   ]
  },
  {
   "cell_type": "code",
   "execution_count": 83,
   "metadata": {},
   "outputs": [
    {
     "name": "stdout",
     "output_type": "stream",
     "text": [
      "[[ 9 10 11]\n",
      " [ 0  1  2]\n",
      " [ 6  7  8]\n",
      " [ 3  4  5]]\n"
     ]
    }
   ],
   "source": [
    "# We'll use the same array to compare both functions:\n",
    "# Permutations:\n",
    " # We can see that the original array has not been changed. \n",
    "    # So we could store the permutation in another variable and work on it\n",
    "    # without risking loosign the original variable\n",
    "    \n",
    "array = np.array([1, 2, 3, 4, 5])\n",
    "rng.permutation(array)\n",
    "print(arr)"
   ]
  },
  {
   "cell_type": "code",
   "execution_count": 84,
   "metadata": {},
   "outputs": [
    {
     "name": "stdout",
     "output_type": "stream",
     "text": [
      "[5 1 4 2 3]\n"
     ]
    }
   ],
   "source": [
    "# Shuffle:\n",
    " # The original variable has been modified and lost in the process.\n",
    "    \n",
    "array = np.array([1, 2, 3, 4, 5])\n",
    "rng.shuffle(array)\n",
    "print(array)"
   ]
  },
  {
   "cell_type": "markdown",
   "metadata": {},
   "source": [
    "***"
   ]
  },
  {
   "cell_type": "markdown",
   "metadata": {},
   "source": [
    "### Permuted:\n",
    "a combination of Shuffle and permutation. It allows to slice the original array into different sub arrays (like Shuffle) but the original array stays unchanged (like Permutations). "
   ]
  },
  {
   "cell_type": "code",
   "execution_count": 85,
   "metadata": {},
   "outputs": [
    {
     "data": {
      "text/plain": [
       "array([[ 0,  1,  2,  3,  4,  5,  6,  7],\n",
       "       [ 8,  9, 10, 11, 12, 13, 14, 15],\n",
       "       [16, 17, 18, 19, 20, 21, 22, 23]])"
      ]
     },
     "execution_count": 85,
     "metadata": {},
     "output_type": "execute_result"
    }
   ],
   "source": [
    "# Dividing an array into 3 arrays of 8 values.\n",
    " # The total number of items must match the length of the original array\n",
    "    \n",
    "x = np.arange(24).reshape(3, 8)\n",
    "x"
   ]
  },
  {
   "cell_type": "code",
   "execution_count": 86,
   "metadata": {},
   "outputs": [
    {
     "data": {
      "text/plain": [
       "array([[ 0,  1,  2,  3,  4,  5,  6,  7],\n",
       "       [ 8,  9, 10, 11, 12, 13, 14, 15],\n",
       "       [16, 17, 18, 19, 20, 21, 22, 23]])"
      ]
     },
     "execution_count": 86,
     "metadata": {},
     "output_type": "execute_result"
    }
   ],
   "source": [
    "# With the permutation function we can operate on the arrays,\n",
    "# but the values originally contained in each one of them stays the same.\n",
    "# We can select whether to suffle the rows or columns by changing the value of x(0,1).\n",
    " \n",
    "# Columns:\n",
    "rng.permutation(x, axis=0)"
   ]
  },
  {
   "cell_type": "code",
   "execution_count": 87,
   "metadata": {},
   "outputs": [
    {
     "data": {
      "text/plain": [
       "array([[ 5,  7,  6,  1,  4,  3,  2,  0],\n",
       "       [13, 15, 14,  9, 12, 11, 10,  8],\n",
       "       [21, 23, 22, 17, 20, 19, 18, 16]])"
      ]
     },
     "execution_count": 87,
     "metadata": {},
     "output_type": "execute_result"
    }
   ],
   "source": [
    "# rows:\n",
    "rng.permutation(x, axis=1)"
   ]
  },
  {
   "cell_type": "markdown",
   "metadata": {},
   "source": [
    "***\n",
    "***"
   ]
  },
  {
   "cell_type": "markdown",
   "metadata": {},
   "source": [
    "### Distributions:\n",
    "In this setion we will analyse different distribution functions. With these functions we can simulate data to study populations, make solid assumptions of of a variable to bridge  to another variable. We can also plot our or dataset and use the function that best suits the nature of out observations.\n"
   ]
  },
  {
   "cell_type": "markdown",
   "metadata": {},
   "source": [
    "***"
   ]
  },
  {
   "cell_type": "markdown",
   "metadata": {},
   "source": [
    "#### Normal:\n",
    "A normal distribution is described by its mean and standard deviation, describing a bell curve, where(8):\n",
    "1. 68% of measurements are between -1 & 1 standard deviation from the mean.\n",
    "2. 95 % of measurements are between -2 & 2 standard deviation from the mean.\n",
    "3. 99% of measurements are between -3 & 3 standard deviation from the mean."
   ]
  },
  {
   "cell_type": "markdown",
   "metadata": {},
   "source": [
    "![title](normal_distribution.svg)"
   ]
  },
  {
   "cell_type": "markdown",
   "metadata": {},
   "source": [
    "The normal distribution reflects the way continuous variables behave (provided we have the right sample for a given population). This means that if we make enough mesurements of a continuous variable in a given population that variable will show the behaviour of a normal distribution."
   ]
  },
  {
   "cell_type": "markdown",
   "metadata": {},
   "source": [
    "A normal distribution will allow us to make assumptions and predictions of the sample's population based on the expected proportion of measurements for each value given a range of probability (or risk). To understand this we need to check the z distribution or standard normal distribution.\n"
   ]
  },
  {
   "cell_type": "markdown",
   "metadata": {},
   "source": [
    "The Z Distribution is a representation of standard mean deviations and its proportion of measurements. With it we can determine a value, range of values, or number of cases with a given value by translating that value into standard deviation and checking the proportion associated with that distance from the mean. For that we can check the z distribution table.(9)"
   ]
  },
  {
   "cell_type": "markdown",
   "metadata": {},
   "source": [
    "On the y axis we can see the z value which is obtained by substraction the mean from the value of interest and dividing that result by the standard deviation (which is bassically expresing the score difference in standard deviation values). On the x axis we have a probability assigned to each proportion. This allows us to calculate a value given a standard deviation or z score, or a number of observations given an observation"
   ]
  },
  {
   "cell_type": "markdown",
   "metadata": {},
   "source": [
    "![Z-table](z-dtable.png)"
   ]
  },
  {
   "cell_type": "markdown",
   "metadata": {},
   "source": [
    "It will also allow us to make predictions of a variable score given an observation in a different variable with a linear regression relationship.\n",
    "\n",
    "Example: let's assume a linear regression value of .99 between weight and diabets, meaning higher weight is highly positively correlated with having diabetes. And let's assume both variables behave normally.\n",
    "\n",
    "If we have a value in weight positioned in the percentile 75, with the z table we can calculate a person's score in the diabetes variable without having to make a measurement (always within a tolerange range)."
   ]
  },
  {
   "cell_type": "markdown",
   "metadata": {},
   "source": [
    "In Numpy we have have normal distributions if we provide the mean and standard deviation:\n"
   ]
  },
  {
   "cell_type": "code",
   "execution_count": 88,
   "metadata": {},
   "outputs": [],
   "source": [
    "# Normal distribution of mean=10, std=2, size=10000\n",
    "mean = 10\n",
    "std = 2\n",
    "sample= mean + std * rng.normal(size=10000)\n",
    "# sample (Uncomment to display)"
   ]
  },
  {
   "cell_type": "code",
   "execution_count": 89,
   "metadata": {},
   "outputs": [
    {
     "data": {
      "image/png": "[encoded data removed]",
      "text/plain": [
       "<Figure size 432x288 with 1 Axes>"
      ]
     },
     "metadata": {
      "needs_background": "light"
     },
     "output_type": "display_data"
    }
   ],
   "source": [
    "plt.hist(sample, bins=40)\n",
    "plt.xlabel(\"observations\")\n",
    "plt.ylabel(\"Frequency\")\n",
    "plt.show()"
   ]
  },
  {
   "cell_type": "code",
   "execution_count": 90,
   "metadata": {},
   "outputs": [
    {
     "name": "stdout",
     "output_type": "stream",
     "text": [
      "The mean of sample is:  9.981306633928568\n"
     ]
    }
   ],
   "source": [
    "# We can calculate different statistics on that sample, such as mean and standard deviation:\n",
    "\n",
    "mean= np.mean(sample)\n",
    "print(\"The mean of sample is: \", mean)"
   ]
  },
  {
   "cell_type": "code",
   "execution_count": 91,
   "metadata": {},
   "outputs": [
    {
     "name": "stdout",
     "output_type": "stream",
     "text": [
      "the standard deviation of sample:  1.999552298257174\n"
     ]
    }
   ],
   "source": [
    "std= np.std(sample)\n",
    "print(\"the standard deviation of sample: \", std)"
   ]
  },
  {
   "cell_type": "markdown",
   "metadata": {},
   "source": [
    "***"
   ]
  },
  {
   "cell_type": "markdown",
   "metadata": {},
   "source": [
    "#### Geometrical distribution:\n",
    "\n",
    "Is the distribution of the number of trials needed to get a success where each trial is independent and has a exclusive outcome outlined as failure or success.\n",
    "\n",
    "The geometrical distribution has only one value, p, the probability of succes. The mean and variance and functions of p:\n",
    "\n",
    "mean = 1/p\n",
    "\n",
    "variance = 1-P/P**2"
   ]
  },
  {
   "cell_type": "code",
   "execution_count": 92,
   "metadata": {},
   "outputs": [
    {
     "data": {
      "image/png": "[encoded data removed]",
      "text/plain": [
       "<Figure size 432x288 with 1 Axes>"
      ]
     },
     "metadata": {
      "needs_background": "light"
     },
     "output_type": "display_data"
    }
   ],
   "source": [
    "x = np.random.geometric(0.5, size=10000)\n",
    "bin = np.arange(0,20,1)\n",
    "\n",
    "plt.hist(x, bins=bin) \n",
    "plt.title(\"Geometric Distribution\") \n",
    "plt.show()"
   ]
  },
  {
   "cell_type": "markdown",
   "metadata": {},
   "source": [
    "We can see that the probability of succes in the first trial is practically half of the size, and that's because the value of p=0.5. We can also see that it rapidily decreases, and that's because the probability of success in the second trial includes a failure in trial 1, which is .5*.5=.25, which for a n=10000, is equal to 2500, which is the value we can see in the second bin."
   ]
  },
  {
   "cell_type": "markdown",
   "metadata": {},
   "source": [
    "***"
   ]
  },
  {
   "cell_type": "markdown",
   "metadata": {},
   "source": [
    "### Poisson distribution:\n",
    "\n",
    "It's a discrete distribution, and describes the number of events in a given time interval. It assumes independent trials of randomly distributed observations (10). An example could be number of people going to a shop between certain hours. It requires only one parameter (Lambda), which is the expected number fo events.\n",
    "\n",
    "Assumtions:\n",
    "1. Events are independent.\n",
    "2. The rate of occurrence stays constant.\n",
    "\n",
    "Also, as lambda becomes larger and p smaller the poisson distribution behaves like a geometrical distribution (or binomial). And both distributions will behave like normal as datapoints grow, and that's because the mean and variance are both the value of lambda, meaning that as it grows more observations can be possible at each side of the mean with a broader variance(as we can see below).\n",
    "\n",
    "THEN WHY USE THE POISSON DISTRIBUTION?\n",
    "\n",
    "First of all, if a variable is best suited for a binomial distribution then we should perhaps use that formula. But we have a few situations where a poisson distribution can be handy:\n",
    "\n",
    "1. When factorials and exponentials in a binomial calculation become larger and difficult to calculate as n grows.\n",
    "2. When n and p are unknown but we have the mean number of observations. That mean can be used as the mean of a poisson calculation."
   ]
  },
  {
   "cell_type": "code",
   "execution_count": 93,
   "metadata": {},
   "outputs": [
    {
     "data": {
      "image/png": "[encoded data removed]",
      "text/plain": [
       "<Figure size 432x288 with 1 Axes>"
      ]
     },
     "metadata": {
      "needs_background": "light"
     },
     "output_type": "display_data"
    }
   ],
   "source": [
    "# Different poisson charts for values of lamba. Poisson and binomial distributions \n",
    " # will behave like normal distribution as n grows. \n",
    "\n",
    "import seaborn as sns\n",
    "\n",
    "sns.distplot(rng.poisson(lam=10, size=1000), hist=False, label='5')\n",
    "sns.distplot(rng.poisson(lam=30, size=1000), hist=False, label='15')\n",
    "sns.distplot(rng.poisson(lam=100, size=1000), hist=False, label='30') \n",
    "\n",
    "plt.title(\"Poisson Distribution\") \n",
    "plt.show()"
   ]
  },
  {
   "cell_type": "markdown",
   "metadata": {},
   "source": [
    "***"
   ]
  },
  {
   "cell_type": "markdown",
   "metadata": {},
   "source": [
    "#### Exponential distribution:\n",
    "It's related to the Poisson distribution because it represents the time between events in a Poisson process. That is, while the Poisson might be registering the amount of people going to a store in an hour, the exponential will register the number of hours between people going to the store (time between events)(11).\n",
    "\n",
    "As with the Poisson:\n",
    "1. Events must be independent\n",
    "2. The rate of uccurrence is constant.\n",
    "3. We need Lambda. But in contrast, the mean here will be mean = Unit of measure/lambda.\n",
    "\n",
    "We can see below how the probability decreases rapidly as the mean increases, which continuing the example of time between people going to a store would be hours between people. The larger the time requested, the lower the probability."
   ]
  },
  {
   "cell_type": "code",
   "execution_count": 94,
   "metadata": {},
   "outputs": [
    {
     "data": {
      "image/png": "[encoded data removed]",
      "text/plain": [
       "<Figure size 432x288 with 1 Axes>"
      ]
     },
     "metadata": {
      "needs_background": "light"
     },
     "output_type": "display_data"
    }
   ],
   "source": [
    "size = 10000\n",
    "\n",
    "#drawing 10000 sample \n",
    "\n",
    "a = rng.exponential(1, size)\n",
    "b = rng.exponential(2, size)\n",
    "c = rng.exponential(3, size)\n",
    "d = rng.exponential(4, size)\n",
    "\n",
    "bin = np.arange(0,10,0.1)\n",
    "\n",
    "plt.hist(a, bins=bin, edgecolor='blue') \n",
    "plt.hist(b, bins=bin, edgecolor='red')\n",
    "plt.hist(c, bins=bin, edgecolor='yellow')\n",
    "plt.hist(d, bins=bin, edgecolor='white')\n",
    "\n",
    "plt.title(\"Exponential Distribution\") \n",
    "plt.show()"
   ]
  },
  {
   "cell_type": "markdown",
   "metadata": {},
   "source": [
    "***"
   ]
  },
  {
   "cell_type": "markdown",
   "metadata": {},
   "source": [
    "#### Hypergeometric Distribution:\n",
    "Like the previous three, this is a discrete observations distribution. It'similar to binomial only without replacement, that is events are not independent, they affect the probability of future events.\n",
    "\n",
    "Normally it takes three parameters:\n",
    "\n",
    "N: population size\n",
    "\n",
    "A: items or observations of interest\n",
    "\n",
    "n: sample size\n",
    "\n",
    "But in numpy we have three parameters: success, failure, sample."
   ]
  },
  {
   "cell_type": "code",
   "execution_count": 95,
   "metadata": {},
   "outputs": [
    {
     "data": {
      "image/png": "[encoded data removed]",
      "text/plain": [
       "<Figure size 432x288 with 1 Axes>"
      ]
     },
     "metadata": {
      "needs_background": "light"
     },
     "output_type": "display_data"
    }
   ],
   "source": [
    "# If we have 13 spades in a 52 cards deck, and we want to take 5 cards, \n",
    "# we can calculate the probability of those cards being spades\n",
    "# We will get 1 spades card in our 5 cards hand in 4000 cases out of 10000.\n",
    "# and the probability decreases as the number of cards increases.\n",
    "\n",
    "spades = rng.hypergeometric(13, 39, 5, 10000)\n",
    "plt.hist(spades, bins=5, edgecolor='blue')\n",
    "plt.show()"
   ]
  },
  {
   "cell_type": "markdown",
   "metadata": {},
   "source": [
    "***\n",
    "***"
   ]
  },
  {
   "cell_type": "markdown",
   "metadata": {},
   "source": [
    "### Seed and pseudorandom numbers generation:\n",
    "\n",
    "#### pcg64 (Permuted congruential generator) outperforming - Mersenne twister:\n",
    "\n",
    "For years numpy had used the Mersenne Twister algorith (MT19937) for its random generated numbers. It is a widely used algorithm in many programming languages and software applications due to its speed, \"randomness\" and security. However, in the latest Numpy version (1.21) they've decided to move away from this algorithm in favour of the Permuted Congruential Generator (PCG-64) by Melissa O'Neill.\n",
    "\n",
    "In numpy's Random sampling page, they state that this changed is based on better statistical properties. \n",
    "\n",
    "But what are these charactetistics?\n",
    "\n",
    "For what we can see in her paper (13), when discussing peformance she writes: \"All the chosen members pass BigCrush at 49 bits or less, providing ample headroom for use at 64 bits. Some members pass at much fewer, most notably PCG-RXS-M-XS, which passes at 36 bits, the minimum permitted by the theoretical model introduced in Section 3.2\". She also explained these results during a Colloquium in Standfor University (14) where she showed these graphics:"
   ]
  },
  {
   "cell_type": "markdown",
   "metadata": {},
   "source": [
    "<p float=\"left\">\n",
    "<img src=\"pcgperformance.png\" alt=\"alt text\" title=\"image Title\" width=\"350\"/>\n",
    "<img src=\"pcgperformance1.png\" alt=\"alt text\" title=\"image Title\" width=\"350\"/>\n",
    "</p>"
   ]
  },
  {
   "cell_type": "markdown",
   "metadata": {},
   "source": [
    "As we can see, the PCG family outperformned the Mersenne Twister (When the latter didn't fail).\n",
    "We can see more detailed graphic results in the website https://www.pcg-random.org/, but let's check the comparison between both algorithms:\n",
    "                                                                  "
   ]
  },
  {
   "cell_type": "markdown",
   "metadata": {},
   "source": [
    "![PCG-MERSENNE](pcg-mersenne.png)"
   ]
  },
  {
   "cell_type": "markdown",
   "metadata": {},
   "source": [
    "According to O'Neill the PCG family outperfomed the Mersenne Twister in almost all measurements."
   ]
  },
  {
   "cell_type": "markdown",
   "metadata": {},
   "source": [
    "Despite these results, some people think other factors can be also playing a role in the change of algorithm by Numpy:\n",
    "\n",
    "1. The Mersenne Twister is a 624-element array of 32-bit unsigned integers, and since 64-bit machines are common nowadays, the PCG-64 might be a better suited choice (16).\n",
    "\n",
    "2. The Mersenne Twister \"uses a bit over 2 kb of memory, and the algorithm does data-dependent memory lookups. \n",
    "This has unwanted cache effects that make the algorithm slow and/or pollutes your cache lines to make the rest of your application slower\". (17).\n",
    "\n",
    "There also seems to be some controversy about O'Neill's findings or PCG algorithms performance, specifically:\n",
    "\n",
    "1. The speed when using more than 64-bits decreases rapidly (18).\n",
    "\n",
    "2. The implementation might be avoiding almost all 128-bit operations \"which is a significant improvement, \n",
    "albeit the timings are still far from the sub-ns area of scrambled  linear generators or 64-bit MWC generators of similar size\" (19).\n",
    "\n",
    "3. Danger of self-correlation (20).\n",
    "\n",
    "But in her paper she states that this is a step forward and not the final stage: \n",
    "\n",
    "\"I have not hesitated to point out the predictability of most general purpose generators and the security concerns such predictability poses. I have argued that the PCG family is at least a step in the right direction, but I have been reluctant to make any strong claim about its cryptographic security\"(p.50)"
   ]
  },
  {
   "cell_type": "markdown",
   "metadata": {},
   "source": [
    "***"
   ]
  },
  {
   "cell_type": "markdown",
   "metadata": {},
   "source": [
    "#### How to set a seed:\n",
    "Setting a seed value will allow us to more accurately test our code.\n",
    "\n",
    "To set a seed we need to pass the seed value as an argument to the default function provided by Numpy:\n"
   ]
  },
  {
   "cell_type": "code",
   "execution_count": 96,
   "metadata": {},
   "outputs": [
    {
     "name": "stdout",
     "output_type": "stream",
     "text": [
      "Generator(PCG64)\n",
      "0.9560017096289753\n"
     ]
    }
   ],
   "source": [
    "# Where \"10\" is the seed\n",
    "# And we can see in the code block below that we can get the same pseudo-random value\n",
    "\n",
    "rng = default_rng(10)\n",
    "print(rng)\n",
    "\n",
    "print(rng.random())\n"
   ]
  },
  {
   "cell_type": "code",
   "execution_count": 97,
   "metadata": {},
   "outputs": [
    {
     "name": "stdout",
     "output_type": "stream",
     "text": [
      "0.9560017096289753\n"
     ]
    }
   ],
   "source": [
    "rng = default_rng(10)\n",
    "print(rng.random())\n"
   ]
  },
  {
   "cell_type": "markdown",
   "metadata": {},
   "source": [
    "***\n",
    "***"
   ]
  },
  {
   "cell_type": "markdown",
   "metadata": {},
   "source": [
    "### References:\n",
    "1. https://numpy.org/doc/1.21/user/whatisnumpy.html\n",
    "2. https://www.w3schools.com/python/numpy/numpy_intro.asp\n",
    "3. https://runebook.dev/en/docs/numpy/reference/random/bit_generators/index\n",
    "4. https://www.youtube.com/watch?v=bD05uGo_sVI\n",
    "5. https://stackoverflow.com/questions/8385602/why-are-numpy-arrays-so-fast\n",
    "6. Seed: https://www.sharpsightlabs.com/blog/numpy-random-seed/\n",
    "7. https://stackoverflow.com/questions/15474159/shuffle-vs-permute-numpy\n",
    "8. https://www.w3schools.com/statistics/statistics_normal_distribution.php\n",
    "9. https://www.rapidtables.com/math/probability/normal_distribution.html\n",
    "10. https://medium.com/analytics-vidhya/binomial-and-poisson-distribution-337958a384f3\n",
    "11. https://courses.lumenlearning.com/introstats1/chapter/the-exponential-distribution/\n",
    "12. https://www.freecodecamp.org/news/poisson-distribution-a-formula-to-calculate-probability-distribution/\n",
    "13. https://www.cs.hmc.edu/tr/hmc-cs-2014-0905.pdf\n",
    "14. https://www.youtube.com/watch?v=45Oet5qjlms\n",
    "15. https://www.pcg-random.org/\n",
    "16. https://github.com/numpy/numpy/issues/3137\n",
    "17. https://www.reddit.com/r/compsci/comments/28y2su/why_was_the_mersenne_twister_such_an_improvement/\n",
    "18. https://stats.stackexchange.com/questions/337927/is-pcg-random-number-generator-as-good-as-claimed\n",
    "19. https://pcg.di.unimi.it/pcg.php\n",
    "20. https://github.com/numpy/numpy/issues/16313\n",
    "21. https://www.youtube.com/watch?v=Jo5Nlbqd-Vg"
   ]
  },
  {
   "cell_type": "markdown",
   "metadata": {},
   "source": [
    "***"
   ]
  },
  {
   "cell_type": "markdown",
   "metadata": {},
   "source": [
    "### End."
   ]
  }
 ],
 "metadata": {
  "kernelspec": {
   "display_name": "Python 3",
   "language": "python",
   "name": "python3"
  },
  "language_info": {
   "codemirror_mode": {
    "name": "ipython",
    "version": 3
   },
   "file_extension": ".py",
   "mimetype": "text/x-python",
   "name": "python",
   "nbconvert_exporter": "python",
   "pygments_lexer": "ipython3",
   "version": "3.7.6"
  }
 },
 "nbformat": 4,
 "nbformat_minor": 4
}
